{
 "cells": [
  {
   "cell_type": "markdown",
   "id": "1f2c2fb3",
   "metadata": {},
   "source": [
    "## Process videos into images"
   ]
  },
  {
   "cell_type": "code",
   "execution_count": 37,
   "id": "88cb0ead",
   "metadata": {},
   "outputs": [],
   "source": [
    "import cv2\n",
    "import numpy as np\n",
    "import os\n",
    "import glob\n",
    "\n",
    "from tqdm import tqdm"
   ]
  },
  {
   "cell_type": "code",
   "execution_count": 38,
   "id": "81b6b6e2",
   "metadata": {},
   "outputs": [
    {
     "name": "stdout",
     "output_type": "stream",
     "text": [
      "frames per second = 30.00705876150466\n",
      "total frame counts = 683.0\n",
      "duration = 22.761311111111112 sec\n"
     ]
    }
   ],
   "source": [
    "# Get an idea of video's parameter\n",
    "video = cv2.VideoCapture('20230410_163104.mp4')\n",
    "\n",
    "fps = video.get(cv2.CAP_PROP_FPS)\n",
    "print('frames per second =',fps)\n",
    "\n",
    "frame_count = video.get(cv2.CAP_PROP_FRAME_COUNT)\n",
    "print('total frame counts =',frame_count)\n",
    "\n",
    "duration = frame_count/fps\n",
    "print('duration =', duration, 'sec')"
   ]
  },
  {
   "cell_type": "code",
   "execution_count": 39,
   "id": "ed0f7050",
   "metadata": {},
   "outputs": [],
   "source": [
    "# input variables\n",
    "pathIn = '20230410_163104.mp4'\n",
    "pathOut = 'import_data/input'"
   ]
  },
  {
   "cell_type": "code",
   "execution_count": 40,
   "id": "7826bfb4",
   "metadata": {},
   "outputs": [],
   "source": [
    "if not os.path.exists(pathOut): \n",
    "    os.makedirs(pathOut)"
   ]
  },
  {
   "cell_type": "code",
   "execution_count": 41,
   "id": "db5626ec",
   "metadata": {},
   "outputs": [
    {
     "name": "stderr",
     "output_type": "stream",
     "text": [
      "  0%|                                                                       | 0/683 [00:00<?, ?it/s]"
     ]
    }
   ],
   "source": [
    "# video to inference image frames\n",
    "pbar = tqdm(total=int(frame_count))\n",
    "\n",
    "def extractImages(pathIn, pathOut):\n",
    "    count = 0\n",
    "    vidcap = cv2.VideoCapture(pathIn)\n",
    "    while vidcap.isOpened():\n",
    "        ret, image = vidcap.read()\n",
    "        if ret:\n",
    "            count += 1\n",
    "            pbar.update(1)\n",
    "            # do inference here\n",
    "            # inferenced_img = inference(image)\n",
    "            img = cv2.resize(image, (640, 480), interpolation=cv2.INTER_AREA)\n",
    "            cv2.imwrite(pathOut + '%04d.png' % count, img)\n",
    "        else:\n",
    "            break\n",
    "    vidcap.release()\n",
    "    pbar.close()"
   ]
  },
  {
   "cell_type": "code",
   "execution_count": 42,
   "id": "8a7d2e5e",
   "metadata": {},
   "outputs": [
    {
     "name": "stderr",
     "output_type": "stream",
     "text": [
      "100%|█████████████████████████████████████████████████████████████| 683/683 [00:20<00:00, 33.36it/s]\n"
     ]
    }
   ],
   "source": [
    "extractImages(pathIn, pathOut)"
   ]
  }
 ],
 "metadata": {
  "kernelspec": {
   "display_name": "Python 3 (ipykernel)",
   "language": "python",
   "name": "python3"
  },
  "language_info": {
   "codemirror_mode": {
    "name": "ipython",
    "version": 3
   },
   "file_extension": ".py",
   "mimetype": "text/x-python",
   "name": "python",
   "nbconvert_exporter": "python",
   "pygments_lexer": "ipython3",
   "version": "3.8.10"
  }
 },
 "nbformat": 4,
 "nbformat_minor": 5
}
