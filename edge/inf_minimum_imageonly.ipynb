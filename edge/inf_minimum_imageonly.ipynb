{
 "cells": [
  {
   "cell_type": "markdown",
   "id": "adc9ad36",
   "metadata": {},
   "source": [
    "### Inference Test"
   ]
  },
  {
   "cell_type": "code",
   "execution_count": 1,
   "id": "cfee807b",
   "metadata": {},
   "outputs": [
    {
     "name": "stderr",
     "output_type": "stream",
     "text": [
      "/usr/local/lib/python3.8/dist-packages/imgaug/imgaug.py:184: DeprecationWarning: Function `ContrastNormalization()` is deprecated. Use `imgaug.contrast.LinearContrast` instead.\n",
      "  warn_deprecated(msg, stacklevel=3)\n",
      "/usr/local/lib/python3.8/dist-packages/imgaug/imgaug.py:184: DeprecationWarning: Function `FrequencyNoiseAlpha()` is deprecated. Use `BlendAlphaFrequencyNoise` instead. FrequencyNoiseAlpha is deprecated. Use BlendAlphaFrequencyNoise instead. The order of parameters is the same. Parameter 'first' was renamed to 'foreground'. Parameter 'second' was renamed to 'background'.\n",
      "  warn_deprecated(msg, stacklevel=3)\n",
      "2023-04-06 19:31:39.273546: I tensorflow/core/platform/cpu_feature_guard.cc:194] This TensorFlow binary is optimized with oneAPI Deep Neural Network Library (oneDNN) to use the following CPU instructions in performance-critical operations:  SSE3 SSE4.1 SSE4.2 AVX\n",
      "To enable them in other operations, rebuild TensorFlow with the appropriate compiler flags.\n",
      "2023-04-06 19:31:39.360783: I tensorflow/stream_executor/cuda/cuda_gpu_executor.cc:991] successful NUMA node read from SysFS had negative value (-1), but there must be at least one NUMA node, so returning NUMA node zero\n",
      "2023-04-06 19:31:39.396005: I tensorflow/stream_executor/cuda/cuda_gpu_executor.cc:991] successful NUMA node read from SysFS had negative value (-1), but there must be at least one NUMA node, so returning NUMA node zero\n",
      "2023-04-06 19:31:39.397733: I tensorflow/stream_executor/cuda/cuda_gpu_executor.cc:991] successful NUMA node read from SysFS had negative value (-1), but there must be at least one NUMA node, so returning NUMA node zero\n",
      "2023-04-06 19:31:39.758559: I tensorflow/stream_executor/cuda/cuda_gpu_executor.cc:991] successful NUMA node read from SysFS had negative value (-1), but there must be at least one NUMA node, so returning NUMA node zero\n",
      "2023-04-06 19:31:39.759535: I tensorflow/stream_executor/cuda/cuda_gpu_executor.cc:991] successful NUMA node read from SysFS had negative value (-1), but there must be at least one NUMA node, so returning NUMA node zero\n",
      "2023-04-06 19:31:39.760311: I tensorflow/stream_executor/cuda/cuda_gpu_executor.cc:991] successful NUMA node read from SysFS had negative value (-1), but there must be at least one NUMA node, so returning NUMA node zero\n",
      "2023-04-06 19:31:39.761016: I tensorflow/core/common_runtime/gpu/gpu_device.cc:1532] Created device /job:localhost/replica:0/task:0/device:GPU:0 with 20397 MB memory:  -> device: 0, name: NVIDIA A10G, pci bus id: 0000:00:1e.0, compute capability: 8.6\n"
     ]
    }
   ],
   "source": [
    "from __future__ import print_function\n",
    "\n",
    "import os\n",
    "import sys\n",
    "\n",
    "import numpy as np\n",
    "import tensorflow as tf\n",
    "\n",
    "sys.path.extend([\".\", \"..\"])  # adds the folder from which you call the script\n",
    "os.environ[\"CASAPOSE_INFERENCE\"] = \"True\"\n",
    "\n",
    "from casapose.data_handler.image_only_dataset import ImageOnlyDataset\n",
    "from casapose.data_handler.vectorfield_dataset import VectorfieldDataset\n",
    "from casapose.pose_estimation.pose_evaluation import poses_pnp\n",
    "from casapose.pose_estimation.voting_layers_2d import CoordLSVotingWeighted\n",
    "from casapose.pose_models.tfkeras import Classifiers\n",
    "from casapose.utils.config_parser import parse_config\n",
    "\n",
    "config = tf.compat.v1.ConfigProto()\n",
    "config.gpu_options.allow_growth = True\n",
    "session = tf.compat.v1.InteractiveSession(config=config)"
   ]
  },
  {
   "cell_type": "code",
   "execution_count": 2,
   "id": "939a4ac5",
   "metadata": {},
   "outputs": [],
   "source": [
    "#opt = parse_config()\n",
    "#parse_config()"
   ]
  },
  {
   "cell_type": "code",
   "execution_count": 3,
   "id": "2829bc9a",
   "metadata": {},
   "outputs": [],
   "source": [
    "class opt:\n",
    "    modelname = 'casapose_c_gcu5'\n",
    "    estimate_confidence = 1\n",
    "    estimate_coords = 1\n",
    "    confidence_regularization = 1\n",
    "    object = 'obj_000001,obj_000005,obj_000006,obj_000008,obj_000009,obj_000010,obj_000011,obj_000016'\n",
    "\n",
    "    no_points = 9\n",
    "    save_debug_batch = 0\n",
    "\n",
    "    imagesize = (448, 448)\n",
    "    imagesize_test = (480, 640)\n",
    "    crop_factor = 0.933333333\n",
    "    pretrained = 1\n",
    "    manualseed = 1237\n",
    "\n",
    "    # losses\n",
    "    mask_loss_weight = 1.0\n",
    "    vertex_loss_weight = 0.5\n",
    "    proxy_loss_weight = 0.015\n",
    "    keypoint_loss_weight = 0.007\n",
    "    filter_vertex_with_segmentation = 1\n",
    "    filter_high_proxy_errors = 0\n",
    "    use_bpnp_reprojection_loss = 0\n",
    "    max_keypoint_pixel_error = 12.5\n",
    "\n",
    "    # learning rate\n",
    "    lr = 0.001\n",
    "    lr_decay = 0.5\n",
    "    lr_epochs_steps = 50,75,90\n",
    "\n",
    "    # general\n",
    "    gpuids = 0,1\n",
    "    loginterval = 10\n",
    "    epochs = 100\n",
    "    batchsize = 4\n",
    "    saveinterval = 5\n",
    "    validationinterval = 1\n",
    "\n",
    "    # data preprocessing\n",
    "    workers = 0\n",
    "    prefetch = 10\n",
    "\n",
    "    # augmentation\n",
    "    translation = 0\n",
    "    rotation = 0\n",
    "    noise = 0.0001\n",
    "    brightness = 0.001\n",
    "    contrast = 0.001\n",
    "    saturation = 0.001\n",
    "    hue = 0.001\n",
    "    use_imgaug = 1\n",
    "\n",
    "    # test\n",
    "    min_object_size_test = 200\n",
    "    write_poses = 0\n",
    "    save_eval_batches = 0\n",
    "\n",
    "    # output\n",
    "    net = 'training_checkpoints'\n",
    "    outf = 'train_casapose_8_16_objects'\n",
    "\n",
    "    # config\n",
    "    train_vectors_with_ground_truth = 1\n",
    "    load_h5_weights = 0\n",
    "    copy_weights_from_backup_network = 0\n",
    "    copy_weights_add_confidence_maps = 0\n",
    "    objects_in_input_network = 8\n",
    "    objects_to_copy = 1\n",
    "    objects_to_copy_list = 'config/objects_to_copy.csv'\n",
    "    \n",
    "    confidence_filter_estimates = 1\n",
    "    confidence_choose_second = 0\n",
    "    train_vectors_with_ground_truth = 0\n",
    "    datatest_wxyz_quaterion = 0\n",
    "    filter_test_with_gt = 0\n",
    "    \n",
    "    evalf = 'output'\n",
    "    #datatest = 'import_data/test/test2'\n",
    "    #datameshes = 'import_data/test/models'\n",
    "    datatest = '/workspace/CASAPose/import_data/test/test'\n",
    "    datameshes = '/workspace/CASAPose/import_data/test/models'\n",
    "    data = ''\n",
    "    datatest_path_filter = None\n",
    "    color_dataset = 1\n",
    "    train_validation_split = 0.9\n",
    "    backbonename = 'resnet18'\n",
    "    load_h5_weights = 1\n",
    "    load_h5_filename = '../../../data/pretrained_models/result_w'"
   ]
  },
  {
   "cell_type": "code",
   "execution_count": 4,
   "id": "5c53b0ac",
   "metadata": {},
   "outputs": [],
   "source": [
    "if not os.path.exists(opt.evalf):\n",
    "    os.makedirs(opt.evalf)"
   ]
  },
  {
   "cell_type": "code",
   "execution_count": 5,
   "id": "f1e1c67f",
   "metadata": {},
   "outputs": [],
   "source": [
    "checkpoint_path = opt.outf + \"/\" + opt.net\n",
    "\n",
    "frozen_path = opt.outf + \"/frozen_model\"\n",
    "img_out_path = opt.outf + \"/control_output\""
   ]
  },
  {
   "cell_type": "code",
   "execution_count": 6,
   "id": "7e411df6",
   "metadata": {},
   "outputs": [],
   "source": [
    "def create_dir(path):\n",
    "    try:\n",
    "        os.makedirs(path)\n",
    "    except OSError:\n",
    "        pass"
   ]
  },
  {
   "cell_type": "code",
   "execution_count": 7,
   "id": "4d2aa12a",
   "metadata": {},
   "outputs": [],
   "source": [
    "create_dir(img_out_path)"
   ]
  },
  {
   "cell_type": "code",
   "execution_count": 8,
   "id": "1b518c6c",
   "metadata": {},
   "outputs": [],
   "source": [
    "# save the hyper parameters passed\n",
    "with open(opt.evalf + \"/header_eval.txt\", \"w\") as file:\n",
    "    file.write(str(opt))"
   ]
  },
  {
   "cell_type": "code",
   "execution_count": 9,
   "id": "ee9fba3a",
   "metadata": {},
   "outputs": [],
   "source": [
    "# set the manual seed.\n",
    "np.random.seed(opt.manualseed)\n",
    "tf.random.set_seed(opt.manualseed)"
   ]
  },
  {
   "cell_type": "code",
   "execution_count": 10,
   "id": "5352194f",
   "metadata": {},
   "outputs": [
    {
     "name": "stdout",
     "output_type": "stream",
     "text": [
      "['/gpu:0']\n"
     ]
    }
   ],
   "source": [
    "test_dataset = None\n",
    "\n",
    "device_ids = []\n",
    "if len(opt.gpuids) == 1 and opt.gpuids[0] < 0:\n",
    "    device_ids.append(\"/cpu:0\")\n",
    "else:\n",
    "    device_ids.append(\"/gpu:{}\".format(opt.gpuids[0]))\n",
    "print(device_ids)"
   ]
  },
  {
   "cell_type": "code",
   "execution_count": 11,
   "id": "79f01020",
   "metadata": {},
   "outputs": [],
   "source": [
    "objectsofinterest = [x.strip() for x in opt.object.split(\",\")]\n",
    "no_objects = len(objectsofinterest)\n",
    "separated_vectorfields = opt.modelname == \"pvnet\""
   ]
  },
  {
   "cell_type": "code",
   "execution_count": 12,
   "id": "624aadcc",
   "metadata": {},
   "outputs": [
    {
     "data": {
      "text/plain": [
       "['obj_000001',\n",
       " 'obj_000005',\n",
       " 'obj_000006',\n",
       " 'obj_000008',\n",
       " 'obj_000009',\n",
       " 'obj_000010',\n",
       " 'obj_000011',\n",
       " 'obj_000016']"
      ]
     },
     "execution_count": 12,
     "metadata": {},
     "output_type": "execute_result"
    }
   ],
   "source": [
    "objectsofinterest"
   ]
  },
  {
   "cell_type": "code",
   "execution_count": 13,
   "id": "0967856f",
   "metadata": {},
   "outputs": [],
   "source": [
    "testingdata = None\n",
    "normal_imgs = [0.5, 0.5]\n",
    "\n",
    "use_split = False\n",
    "if opt.data == opt.datatest:\n",
    "    print(\"split datasets with ratio {}\".format(opt.train_validation_split))\n",
    "    use_split = True\n",
    "\n",
    "test_batches = 0"
   ]
  },
  {
   "cell_type": "code",
   "execution_count": 14,
   "id": "83ad09f0",
   "metadata": {},
   "outputs": [
    {
     "name": "stderr",
     "output_type": "stream",
     "text": [
      "2023-04-06 19:31:39.845849: I tensorflow/stream_executor/cuda/cuda_gpu_executor.cc:991] successful NUMA node read from SysFS had negative value (-1), but there must be at least one NUMA node, so returning NUMA node zero\n",
      "2023-04-06 19:31:39.846737: I tensorflow/stream_executor/cuda/cuda_gpu_executor.cc:991] successful NUMA node read from SysFS had negative value (-1), but there must be at least one NUMA node, so returning NUMA node zero\n",
      "2023-04-06 19:31:39.847471: I tensorflow/stream_executor/cuda/cuda_gpu_executor.cc:991] successful NUMA node read from SysFS had negative value (-1), but there must be at least one NUMA node, so returning NUMA node zero\n",
      "2023-04-06 19:31:39.848423: I tensorflow/stream_executor/cuda/cuda_gpu_executor.cc:991] successful NUMA node read from SysFS had negative value (-1), but there must be at least one NUMA node, so returning NUMA node zero\n",
      "2023-04-06 19:31:39.849131: I tensorflow/stream_executor/cuda/cuda_gpu_executor.cc:991] successful NUMA node read from SysFS had negative value (-1), but there must be at least one NUMA node, so returning NUMA node zero\n",
      "2023-04-06 19:31:39.849821: I tensorflow/stream_executor/cuda/cuda_gpu_executor.cc:991] successful NUMA node read from SysFS had negative value (-1), but there must be at least one NUMA node, so returning NUMA node zero\n",
      "2023-04-06 19:31:39.850592: I tensorflow/stream_executor/cuda/cuda_gpu_executor.cc:991] successful NUMA node read from SysFS had negative value (-1), but there must be at least one NUMA node, so returning NUMA node zero\n",
      "2023-04-06 19:31:39.851303: I tensorflow/stream_executor/cuda/cuda_gpu_executor.cc:991] successful NUMA node read from SysFS had negative value (-1), but there must be at least one NUMA node, so returning NUMA node zero\n",
      "2023-04-06 19:31:39.851934: I tensorflow/core/common_runtime/gpu/gpu_device.cc:1532] Created device /job:localhost/replica:0/task:0/device:GPU:0 with 20397 MB memory:  -> device: 0, name: NVIDIA A10G, pci bus id: 0000:00:1e.0, compute capability: 8.6\n"
     ]
    }
   ],
   "source": [
    "test_dataset = ImageOnlyDataset(root=opt.datatest)\n",
    "testing_images, _ = test_dataset.generate_dataset(1)"
   ]
  },
  {
   "cell_type": "code",
   "execution_count": 15,
   "id": "37995c95",
   "metadata": {},
   "outputs": [
    {
     "data": {
      "text/plain": [
       "['/workspace/CASAPose/import_data/test/test/000001/000001.jpg',\n",
       " '/workspace/CASAPose/import_data/test/test/000001/000002.jpg',\n",
       " '/workspace/CASAPose/import_data/test/test/000001/000003.jpg',\n",
       " '/workspace/CASAPose/import_data/test/test/000001/000004.jpg',\n",
       " '/workspace/CASAPose/import_data/test/test/000001/000005.jpg']"
      ]
     },
     "execution_count": 15,
     "metadata": {},
     "output_type": "execute_result"
    }
   ],
   "source": [
    "ImageOnlyDataset(root=opt.datatest).imgs"
   ]
  },
  {
   "cell_type": "code",
   "execution_count": 16,
   "id": "b30e1d02",
   "metadata": {},
   "outputs": [
    {
     "data": {
      "text/plain": [
       "5"
      ]
     },
     "execution_count": 16,
     "metadata": {},
     "output_type": "execute_result"
    }
   ],
   "source": [
    "len(ImageOnlyDataset(root=opt.datatest))"
   ]
  },
  {
   "cell_type": "code",
   "execution_count": 17,
   "id": "056fc467",
   "metadata": {},
   "outputs": [
    {
     "data": {
      "text/plain": [
       "{'path': '/workspace/CASAPose/import_data/test/test/000001/000001.jpg',\n",
       " 'name': '000001'}"
      ]
     },
     "execution_count": 17,
     "metadata": {},
     "output_type": "execute_result"
    }
   ],
   "source": [
    "ImageOnlyDataset(root=opt.datatest)[0]"
   ]
  },
  {
   "cell_type": "code",
   "execution_count": 18,
   "id": "47790229",
   "metadata": {},
   "outputs": [
    {
     "data": {
      "text/plain": [
       "5"
      ]
     },
     "execution_count": 18,
     "metadata": {},
     "output_type": "execute_result"
    }
   ],
   "source": [
    "len(test_dataset)"
   ]
  },
  {
   "cell_type": "code",
   "execution_count": 19,
   "id": "05fd3580",
   "metadata": {},
   "outputs": [
    {
     "data": {
      "text/plain": [
       "5"
      ]
     },
     "execution_count": 19,
     "metadata": {},
     "output_type": "execute_result"
    }
   ],
   "source": [
    "len(testing_images)"
   ]
  },
  {
   "cell_type": "code",
   "execution_count": 20,
   "id": "5d909388",
   "metadata": {},
   "outputs": [
    {
     "data": {
      "text/plain": [
       "<BatchDataset element_spec=TensorSpec(shape=(None, 480, 640, None), dtype=tf.float32, name=None)>"
      ]
     },
     "execution_count": 20,
     "metadata": {},
     "output_type": "execute_result"
    }
   ],
   "source": [
    "testing_images"
   ]
  },
  {
   "cell_type": "code",
   "execution_count": 21,
   "id": "0a5e8373",
   "metadata": {},
   "outputs": [
    {
     "name": "stdout",
     "output_type": "stream",
     "text": [
      "/workspace/CASAPose/import_data/test/models/obj_000001/obj_000001.ply\n",
      "/workspace/CASAPose/import_data/test/models/obj_000002/obj_000002.ply\n",
      "/workspace/CASAPose/import_data/test/models/obj_000003/obj_000003.ply\n",
      "/workspace/CASAPose/import_data/test/models/obj_000004/obj_000004.ply\n",
      "/workspace/CASAPose/import_data/test/models/obj_000005/obj_000005.ply\n",
      "/workspace/CASAPose/import_data/test/models/obj_000006/obj_000006.ply\n",
      "/workspace/CASAPose/import_data/test/models/obj_000007/obj_000007.ply\n",
      "/workspace/CASAPose/import_data/test/models/obj_000008/obj_000008.ply\n",
      "/workspace/CASAPose/import_data/test/models/obj_000009/obj_000009.ply\n",
      "/workspace/CASAPose/import_data/test/models/obj_000010/obj_000010.ply\n",
      "/workspace/CASAPose/import_data/test/models/obj_000011/obj_000011.ply\n",
      "/workspace/CASAPose/import_data/test/models/obj_000012/obj_000012.ply\n",
      "/workspace/CASAPose/import_data/test/models/obj_000013/obj_000013.ply\n",
      "/workspace/CASAPose/import_data/test/models/obj_000014/obj_000014.ply\n",
      "/workspace/CASAPose/import_data/test/models/obj_000015/obj_000015.ply\n",
      "/workspace/CASAPose/import_data/test/models/obj_000016/obj_000016.ply\n",
      "/workspace/CASAPose/import_data/test/test/000001\n"
     ]
    }
   ],
   "source": [
    "test_dataset = VectorfieldDataset(\n",
    "    root=opt.datatest,\n",
    "    path_meshes=opt.datameshes,\n",
    "    path_filter_root=opt.datatest_path_filter,\n",
    "    color_input=opt.color_dataset,\n",
    "    no_points=opt.no_points,\n",
    "    objectsofinterest=objectsofinterest,\n",
    "    noise=0.00001,\n",
    "    data_size=None,\n",
    "    save=opt.save_debug_batch,\n",
    "    normal=normal_imgs,\n",
    "    contrast=0.00001,\n",
    "    brightness=0.00001,\n",
    "    hue=0.00001,\n",
    "    saturation=0.00001,\n",
    "    random_translation=(0, 0),\n",
    "    random_rotation=0,\n",
    "    random_crop=False,\n",
    "    use_validation_split=use_split,\n",
    "    use_train_split=False,\n",
    "    train_validation_split=opt.train_validation_split,\n",
    "    output_folder=opt.evalf,\n",
    "    visibility_filter=False,\n",
    "    separated_vectorfields=(opt.modelname == \"pvnet\"),\n",
    ")"
   ]
  },
  {
   "cell_type": "code",
   "execution_count": 22,
   "id": "09ef3f07",
   "metadata": {},
   "outputs": [],
   "source": [
    "# test_dataset = VectorfieldDataset(\n",
    "#     root=\"/workspace/CASAPose/import_data/test/test\", # Hardcoded param\n",
    "#     path_meshes=\"/workspace/CASAPose/import_data/test/models\", # Hardcoded param\n",
    "#     path_filter_root=None, # Hardcoded param\n",
    "#     color_input=True, # Hardcoded param\n",
    "#     no_points=9, # Taken from config_8.ini\n",
    "#     objectsofinterest=objectsofinterest,\n",
    "#     noise=0.00001,\n",
    "#     data_size=None,\n",
    "#     save=False, # Hardcoded param\n",
    "#     normal=normal_imgs,\n",
    "#     contrast=0.00001,\n",
    "#     brightness=0.00001,\n",
    "#     hue=0.00001,\n",
    "#     saturation=0.00001,\n",
    "#     random_translation=(0, 0),\n",
    "#     random_rotation=0,\n",
    "#     random_crop=False,\n",
    "#     use_validation_split=use_split,\n",
    "#     use_train_split=False,\n",
    "#     train_validation_split=None,\n",
    "#     output_folder=None,\n",
    "#     visibility_filter=False,\n",
    "#     separated_vectorfields=(opt.modelname == \"pvnet\"),\n",
    "# )"
   ]
  },
  {
   "cell_type": "code",
   "execution_count": 23,
   "id": "cc64feab",
   "metadata": {},
   "outputs": [
    {
     "data": {
      "text/plain": [
       "8"
      ]
     },
     "execution_count": 23,
     "metadata": {},
     "output_type": "execute_result"
    }
   ],
   "source": [
    "no_objects"
   ]
  },
  {
   "cell_type": "code",
   "execution_count": 24,
   "id": "b4c6b829",
   "metadata": {},
   "outputs": [
    {
     "data": {
      "text/plain": [
       "5"
      ]
     },
     "execution_count": 24,
     "metadata": {},
     "output_type": "execute_result"
    }
   ],
   "source": [
    "len(test_dataset)"
   ]
  },
  {
   "cell_type": "code",
   "execution_count": 25,
   "id": "1c5bd96d",
   "metadata": {},
   "outputs": [
    {
     "data": {
      "text/plain": [
       "{'path': '/workspace/CASAPose/import_data/test/test/000001/000001.jpg',\n",
       " 'name': '000001.jpg',\n",
       " 'txt': '/workspace/CASAPose/import_data/test/test/000001/000001.json',\n",
       " 'seg': '/workspace/CASAPose/import_data/test/test/000001/000001.seg.png',\n",
       " 'path_raw': '/workspace/CASAPose/import_data/test/test/000001'}"
      ]
     },
     "execution_count": 25,
     "metadata": {},
     "output_type": "execute_result"
    }
   ],
   "source": [
    "test_dataset[0]"
   ]
  },
  {
   "cell_type": "code",
   "execution_count": 26,
   "id": "f9c6acb1",
   "metadata": {},
   "outputs": [],
   "source": [
    "# print(len(test_dataset))\n",
    "# print(len(testing_images))\n",
    "# testingdata, test_batches = test_dataset.generate_dataset(\n",
    "#     1, 1, 0, opt.imagesize_test, 1.0, 1, no_objects, shuffle=False\n",
    "# )\n",
    "\n",
    "#'epochs', 'prefetch', 'imagesize', 'cropratio', 'worker', and 'no_objects'"
   ]
  },
  {
   "cell_type": "code",
   "execution_count": 27,
   "id": "44ad2d92",
   "metadata": {},
   "outputs": [
    {
     "name": "stdout",
     "output_type": "stream",
     "text": [
      "5\n",
      "5\n"
     ]
    }
   ],
   "source": [
    "# Using ImageOnlyDataset\n",
    "\n",
    "print(len(test_dataset))\n",
    "print(len(testing_images))\n",
    "testingdata, test_batches = ImageOnlyDataset(root=opt.datatest).generate_dataset(\n",
    "   batchsize=1\n",
    ")"
   ]
  },
  {
   "cell_type": "code",
   "execution_count": 28,
   "id": "62f673c0",
   "metadata": {},
   "outputs": [
    {
     "name": "stdout",
     "output_type": "stream",
     "text": [
      "testing data: 5.0 batches\n"
     ]
    }
   ],
   "source": [
    "mesh_vertex_array, mesh_vertex_count = test_dataset.generate_object_vertex_array()\n",
    "\n",
    "print(\"testing data: {} batches\".format(test_batches))"
   ]
  },
  {
   "cell_type": "code",
   "execution_count": 29,
   "id": "4d05549e",
   "metadata": {},
   "outputs": [],
   "source": [
    "input_segmentation_shape = None\n",
    "if opt.train_vectors_with_ground_truth is True:\n",
    "    input_segmentation_shape = (\n",
    "        opt.imagesize_test[0],\n",
    "        opt.imagesize_test[1],\n",
    "        1 + no_objects,\n",
    "    )"
   ]
  },
  {
   "cell_type": "code",
   "execution_count": 30,
   "id": "5c594e1e",
   "metadata": {},
   "outputs": [],
   "source": [
    "input_segmentation_shape"
   ]
  },
  {
   "cell_type": "code",
   "execution_count": 31,
   "id": "b79eef91",
   "metadata": {},
   "outputs": [],
   "source": [
    "height = opt.imagesize_test[0]\n",
    "width = opt.imagesize_test[1]"
   ]
  },
  {
   "cell_type": "code",
   "execution_count": 32,
   "id": "44996d87",
   "metadata": {},
   "outputs": [
    {
     "data": {
      "text/plain": [
       "640"
      ]
     },
     "execution_count": 32,
     "metadata": {},
     "output_type": "execute_result"
    }
   ],
   "source": [
    "width"
   ]
  },
  {
   "cell_type": "code",
   "execution_count": 33,
   "id": "77b24c61",
   "metadata": {},
   "outputs": [],
   "source": [
    "CASAPose = Classifiers.get(opt.modelname)"
   ]
  },
  {
   "cell_type": "code",
   "execution_count": 34,
   "id": "aeea7111",
   "metadata": {},
   "outputs": [],
   "source": [
    "ver_dim = opt.no_points * 2"
   ]
  },
  {
   "cell_type": "code",
   "execution_count": 35,
   "id": "e93d6a4d",
   "metadata": {},
   "outputs": [
    {
     "data": {
      "text/plain": [
       "18"
      ]
     },
     "execution_count": 35,
     "metadata": {},
     "output_type": "execute_result"
    }
   ],
   "source": [
    "ver_dim"
   ]
  },
  {
   "cell_type": "code",
   "execution_count": 36,
   "id": "58ff5ba3",
   "metadata": {},
   "outputs": [],
   "source": [
    "if opt.modelname == \"pvnet\":\n",
    "    ver_dim = ver_dim * no_objects\n",
    "\n",
    "if opt.estimate_confidence:\n",
    "    assert separated_vectorfields is not None, \"confidence not compaitble with this model\"\n",
    "    ver_dim += opt.no_points"
   ]
  },
  {
   "cell_type": "code",
   "execution_count": 37,
   "id": "e3b00035",
   "metadata": {},
   "outputs": [
    {
     "name": "stdout",
     "output_type": "stream",
     "text": [
      "[<KerasTensor: shape=(None, 240, 320, 64) dtype=float32 (created by layer 'relu0')>, <KerasTensor: shape=(None, 120, 160, 64) dtype=float32 (created by layer 'stage2_unit1_relu1')>, <KerasTensor: shape=(None, 60, 80, 128) dtype=float32 (created by layer 'stage3_unit1_relu1')>, <KerasTensor: shape=(None, 60, 80, 256) dtype=float32 (created by layer 'stage4_unit1_relu1')>, <KerasTensor: shape=(None, 60, 80, 512) dtype=float32 (created by layer 'relu1')>]\n"
     ]
    }
   ],
   "source": [
    "net = CASAPose(\n",
    "    ver_dim=ver_dim,\n",
    "    seg_dim=1 + no_objects,\n",
    "    input_shape=(height, width, 3),\n",
    "    input_segmentation_shape=input_segmentation_shape,\n",
    "    weights=\"imagenet\",\n",
    "    base_model=opt.backbonename,\n",
    ")"
   ]
  },
  {
   "cell_type": "code",
   "execution_count": 38,
   "id": "4b409625",
   "metadata": {},
   "outputs": [],
   "source": [
    "checkpoint_prefix = os.path.join(checkpoint_path, \"ckpt\")\n",
    "checkpoint = tf.train.Checkpoint(network=net)  # , optimizer=optimizer)"
   ]
  },
  {
   "cell_type": "code",
   "execution_count": 39,
   "id": "5f2d0d0a",
   "metadata": {},
   "outputs": [],
   "source": [
    "if opt.load_h5_weights is True:\n",
    "    net.load_weights(frozen_path + \"/\" + opt.load_h5_filename + \".h5\", by_name=True, skip_mismatch=True)\n",
    "\n",
    "elif opt.net != \"\":\n",
    "    checkpoint.restore(tf.train.latest_checkpoint(checkpoint_path)).expect_partial()\n",
    "\n",
    "for layer in net.layers:\n",
    "    layer.trainable = False"
   ]
  },
  {
   "cell_type": "code",
   "execution_count": 40,
   "id": "d4864b1f",
   "metadata": {},
   "outputs": [
    {
     "name": "stdout",
     "output_type": "stream",
     "text": [
      "Model: \"model_1\"\n",
      "__________________________________________________________________________________________________\n",
      " Layer (type)                   Output Shape         Param #     Connected to                     \n",
      "==================================================================================================\n",
      " data (InputLayer)              [(None, 480, 640, 3  0           []                               \n",
      "                                )]                                                                \n",
      "                                                                                                  \n",
      " model (Functional)             [(None, 240, 320, 6  11186889    ['data[0][0]']                   \n",
      "                                4),                                                               \n",
      "                                 (None, 120, 160, 6                                               \n",
      "                                4),                                                               \n",
      "                                 (None, 60, 80, 128                                               \n",
      "                                ),                                                                \n",
      "                                 (None, 60, 80, 256                                               \n",
      "                                ),                                                                \n",
      "                                 (None, 60, 80, 512                                               \n",
      "                                )]                                                                \n",
      "                                                                                                  \n",
      " zero_padding2d_18 (ZeroPadding  (None, 62, 82, 512)  0          ['model[0][4]']                  \n",
      " 2D)                                                                                              \n",
      "                                                                                                  \n",
      " pv_block_1_conv2d (Conv2D)     (None, 60, 80, 256)  1179648     ['zero_padding2d_18[0][0]']      \n",
      "                                                                                                  \n",
      " pv_block_1_bn (SyncBatchNormal  (None, 60, 80, 256)  1024       ['pv_block_1_conv2d[0][0]']      \n",
      " ization)                                                                                         \n",
      "                                                                                                  \n",
      " pv_block_1_relu (Activation)   (None, 60, 80, 256)  0           ['pv_block_1_bn[0][0]']          \n",
      "                                                                                                  \n",
      " concatenate (Concatenate)      (None, 60, 80, 384)  0           ['pv_block_1_relu[0][0]',        \n",
      "                                                                  'model[0][2]']                  \n",
      "                                                                                                  \n",
      " zero_padding2d_19 (ZeroPadding  (None, 62, 82, 384)  0          ['concatenate[0][0]']            \n",
      " 2D)                                                                                              \n",
      "                                                                                                  \n",
      " pv_block_2_conv2d (Conv2D)     (None, 60, 80, 128)  442368      ['zero_padding2d_19[0][0]']      \n",
      "                                                                                                  \n",
      " pv_block_2_bn (SyncBatchNormal  (None, 60, 80, 128)  512        ['pv_block_2_conv2d[0][0]']      \n",
      " ization)                                                                                         \n",
      "                                                                                                  \n",
      " tf.math.multiply (TFOpLambda)  (None, 60, 80, 128)  0           ['pv_block_2_bn[0][0]']          \n",
      "                                                                                                  \n",
      " pv_block_2_relu1 (Activation)  (None, 60, 80, 128)  0           ['pv_block_2_bn[0][0]']          \n",
      "                                                                                                  \n",
      " pv_block_2_relu2 (Activation)  (None, 60, 80, 128)  0           ['tf.math.multiply[0][0]']       \n",
      "                                                                                                  \n",
      " subtract (Subtract)            (None, 60, 80, 128)  0           ['pv_block_2_relu1[0][0]',       \n",
      "                                                                  'pv_block_2_relu2[0][0]']       \n",
      "                                                                                                  \n",
      " pv_block_2_upsampling (UpSampl  (None, 120, 160, 12  0          ['subtract[0][0]']               \n",
      " ing2D)                         8)                                                                \n",
      "                                                                                                  \n",
      " concatenate_1 (Concatenate)    (None, 120, 160, 19  0           ['pv_block_2_upsampling[0][0]',  \n",
      "                                2)                                'model[0][1]']                  \n",
      "                                                                                                  \n",
      " zero_padding2d_20 (ZeroPadding  (None, 122, 162, 19  0          ['concatenate_1[0][0]']          \n",
      " 2D)                            2)                                                                \n",
      "                                                                                                  \n",
      " pv_block_3_conv2d (Conv2D)     (None, 120, 160, 64  110592      ['zero_padding2d_20[0][0]']      \n",
      "                                )                                                                 \n",
      "                                                                                                  \n",
      " pv_block_3_bn (SyncBatchNormal  (None, 120, 160, 64  256        ['pv_block_3_conv2d[0][0]']      \n",
      " ization)                       )                                                                 \n",
      "                                                                                                  \n",
      " tf.math.multiply_1 (TFOpLambda  (None, 120, 160, 64  0          ['pv_block_3_bn[0][0]']          \n",
      " )                              )                                                                 \n",
      "                                                                                                  \n",
      " pv_block_3_relu1 (Activation)  (None, 120, 160, 64  0           ['pv_block_3_bn[0][0]']          \n",
      "                                )                                                                 \n",
      "                                                                                                  \n",
      " pv_block_3_relu2 (Activation)  (None, 120, 160, 64  0           ['tf.math.multiply_1[0][0]']     \n",
      "                                )                                                                 \n",
      "                                                                                                  \n",
      " subtract_1 (Subtract)          (None, 120, 160, 64  0           ['pv_block_3_relu1[0][0]',       \n",
      "                                )                                 'pv_block_3_relu2[0][0]']       \n",
      "                                                                                                  \n",
      " pv_block_3_upsampling (UpSampl  (None, 240, 320, 64  0          ['subtract_1[0][0]']             \n",
      " ing2D)                         )                                                                 \n",
      "                                                                                                  \n",
      " concatenate_2 (Concatenate)    (None, 240, 320, 12  0           ['pv_block_3_upsampling[0][0]',  \n",
      "                                8)                                'model[0][0]']                  \n",
      "                                                                                                  \n",
      " zero_padding2d_21 (ZeroPadding  (None, 242, 322, 12  0          ['concatenate_2[0][0]']          \n",
      " 2D)                            8)                                                                \n",
      "                                                                                                  \n",
      " pv_block_4_conv2d (Conv2D)     (None, 240, 320, 32  36864       ['zero_padding2d_21[0][0]']      \n",
      "                                )                                                                 \n",
      "                                                                                                  \n",
      " pv_block_4_bn (SyncBatchNormal  (None, 240, 320, 32  128        ['pv_block_4_conv2d[0][0]']      \n",
      " ization)                       )                                                                 \n",
      "                                                                                                  \n",
      " tf.math.multiply_2 (TFOpLambda  (None, 240, 320, 32  0          ['pv_block_4_bn[0][0]']          \n",
      " )                              )                                                                 \n",
      "                                                                                                  \n",
      " pv_block_4_relu1 (Activation)  (None, 240, 320, 32  0           ['pv_block_4_bn[0][0]']          \n",
      "                                )                                                                 \n",
      "                                                                                                  \n",
      " pv_block_4_relu2 (Activation)  (None, 240, 320, 32  0           ['tf.math.multiply_2[0][0]']     \n",
      "                                )                                                                 \n",
      "                                                                                                  \n",
      " subtract_2 (Subtract)          (None, 240, 320, 32  0           ['pv_block_4_relu1[0][0]',       \n",
      "                                )                                 'pv_block_4_relu2[0][0]']       \n",
      "                                                                                                  \n",
      " pv_block_4_upsampling (UpSampl  (None, 480, 640, 32  0          ['subtract_2[0][0]']             \n",
      " ing2D)                         )                                                                 \n",
      "                                                                                                  \n",
      " concatenate_3 (Concatenate)    (None, 480, 640, 35  0           ['pv_block_4_upsampling[0][0]',  \n",
      "                                )                                 'data[0][0]']                   \n",
      "                                                                                                  \n",
      " zero_padding2d_22 (ZeroPadding  (None, 482, 642, 35  0          ['concatenate_3[0][0]']          \n",
      " 2D)                            )                                                                 \n",
      "                                                                                                  \n",
      " pv_block_5_conv2d (Conv2D)     (None, 480, 640, 32  10080       ['zero_padding2d_22[0][0]']      \n",
      "                                )                                                                 \n",
      "                                                                                                  \n",
      " pv_block_5_bn (SyncBatchNormal  (None, 480, 640, 32  128        ['pv_block_5_conv2d[0][0]']      \n",
      " ization)                       )                                                                 \n",
      "                                                                                                  \n",
      " tf.math.multiply_3 (TFOpLambda  (None, 480, 640, 32  0          ['pv_block_5_bn[0][0]']          \n",
      " )                              )                                                                 \n",
      "                                                                                                  \n",
      " pv_block_5_relu1 (Activation)  (None, 480, 640, 32  0           ['pv_block_5_bn[0][0]']          \n",
      "                                )                                                                 \n",
      "                                                                                                  \n",
      " pv_block_5_relu2 (Activation)  (None, 480, 640, 32  0           ['tf.math.multiply_3[0][0]']     \n",
      "                                )                                                                 \n",
      "                                                                                                  \n",
      " subtract_3 (Subtract)          (None, 480, 640, 32  0           ['pv_block_5_relu1[0][0]',       \n",
      "                                )                                 'pv_block_5_relu2[0][0]']       \n",
      "                                                                                                  \n",
      " pv_final_conv_segmentation (Co  (None, 480, 640, 9)  288        ['subtract_3[0][0]']             \n",
      " nv2D)                                                                                            \n",
      "                                                                                                  \n",
      " tf.math.multiply_4 (TFOpLambda  (None, 480, 640, 9)  0          ['pv_final_conv_segmentation[0][0\n",
      " )                                                               ]']                              \n",
      "                                                                                                  \n",
      " activation (Activation)        (None, 480, 640, 9)  0           ['tf.math.multiply_4[0][0]']     \n",
      "                                                                                                  \n",
      " tf.stop_gradient (TFOpLambda)  (None, 480, 640, 9)  0           ['activation[0][0]']             \n",
      "                                                                                                  \n",
      " segmentation_half_size (HalfSi  (None, 240, 320, 9)  0          ['tf.stop_gradient[0][0]']       \n",
      " ze)                                                                                              \n",
      "                                                                                                  \n",
      " segmentation_quater_size (Half  (None, 120, 160, 9)  0          ['segmentation_half_size[0][0]'] \n",
      " Size)                                                                                            \n",
      "                                                                                                  \n",
      " segmentation_eighth_size (Half  (None, 60, 80, 9)   0           ['segmentation_quater_size[0][0]'\n",
      " Size)                                                           ]                                \n",
      "                                                                                                  \n",
      " pv_block_6_prepare_conv2d (Par  (None, 60, 80, 256)  1179648    ['model[0][4]',                  \n",
      " tialConvolution)                                                 'segmentation_eighth_size[0][0]'\n",
      "                                                                 ]                                \n",
      "                                                                                                  \n",
      " pv_block_6_clade (ClassAdaptiv  (None, 60, 80, 256)  5120       ['pv_block_6_prepare_conv2d[0][0]\n",
      " eWeightedNormalization)                                         ',                               \n",
      "                                                                  'segmentation_eighth_size[0][0]'\n",
      "                                                                 ]                                \n",
      "                                                                                                  \n",
      " pv_block_6_relu (Activation)   (None, 60, 80, 256)  0           ['pv_block_6_clade[0][0]']       \n",
      "                                                                                                  \n",
      " concatenate_4 (Concatenate)    (None, 60, 80, 384)  0           ['pv_block_6_relu[0][0]',        \n",
      "                                                                  'model[0][2]']                  \n",
      "                                                                                                  \n",
      " pv_block_7_prepare_conv2d (Par  (None, 60, 80, 128)  442368     ['concatenate_4[0][0]',          \n",
      " tialConvolution)                                                 'segmentation_eighth_size[0][0]'\n",
      "                                                                 ]                                \n",
      "                                                                                                  \n",
      " pv_block_7_clade (ClassAdaptiv  (None, 60, 80, 128)  2560       ['pv_block_7_prepare_conv2d[0][0]\n",
      " eWeightedNormalization)                                         ',                               \n",
      "                                                                  'segmentation_eighth_size[0][0]'\n",
      "                                                                 ]                                \n",
      "                                                                                                  \n",
      " tf.math.multiply_5 (TFOpLambda  (None, 60, 80, 128)  0          ['pv_block_7_clade[0][0]']       \n",
      " )                                                                                                \n",
      "                                                                                                  \n",
      " pv_block_7_relu1 (Activation)  (None, 60, 80, 128)  0           ['pv_block_7_clade[0][0]']       \n",
      "                                                                                                  \n",
      " pv_block_7_relu2 (Activation)  (None, 60, 80, 128)  0           ['tf.math.multiply_5[0][0]']     \n",
      "                                                                                                  \n",
      " subtract_4 (Subtract)          (None, 60, 80, 128)  0           ['pv_block_7_relu1[0][0]',       \n",
      "                                                                  'pv_block_7_relu2[0][0]']       \n",
      "                                                                                                  \n",
      " pv_block_7_guided_upsamling (G  (None, 120, 160, 12  0          ['subtract_4[0][0]',             \n",
      " uidedUpsampling)               8)                                'segmentation_eighth_size[0][0]'\n",
      "                                                                 , 'segmentation_quater_size[0][0]\n",
      "                                                                 ']                               \n",
      "                                                                                                  \n",
      " concatenate_5 (Concatenate)    (None, 120, 160, 19  0           ['pv_block_7_guided_upsamling[0][\n",
      "                                2)                               0]',                             \n",
      "                                                                  'model[0][1]']                  \n",
      "                                                                                                  \n",
      " pv_block_8_prepare_conv2d (Par  (None, 120, 160, 64  110592     ['concatenate_5[0][0]',          \n",
      " tialConvolution)               )                                 'segmentation_quater_size[0][0]'\n",
      "                                                                 ]                                \n",
      "                                                                                                  \n",
      " pv_block_8_clade (ClassAdaptiv  (None, 120, 160, 64  1280       ['pv_block_8_prepare_conv2d[0][0]\n",
      " eWeightedNormalization)        )                                ',                               \n",
      "                                                                  'segmentation_quater_size[0][0]'\n",
      "                                                                 ]                                \n",
      "                                                                                                  \n",
      " tf.math.multiply_6 (TFOpLambda  (None, 120, 160, 64  0          ['pv_block_8_clade[0][0]']       \n",
      " )                              )                                                                 \n",
      "                                                                                                  \n",
      " pv_block_8_relu1 (Activation)  (None, 120, 160, 64  0           ['pv_block_8_clade[0][0]']       \n",
      "                                )                                                                 \n",
      "                                                                                                  \n",
      " pv_block_8_relu2 (Activation)  (None, 120, 160, 64  0           ['tf.math.multiply_6[0][0]']     \n",
      "                                )                                                                 \n",
      "                                                                                                  \n",
      " subtract_5 (Subtract)          (None, 120, 160, 64  0           ['pv_block_8_relu1[0][0]',       \n",
      "                                )                                 'pv_block_8_relu2[0][0]']       \n",
      "                                                                                                  \n",
      " pv_block_8_guided_upsamling (G  (None, 240, 320, 64  0          ['subtract_5[0][0]',             \n",
      " uidedUpsampling)               )                                 'segmentation_quater_size[0][0]'\n",
      "                                                                 , 'segmentation_half_size[0][0]']\n",
      "                                                                                                  \n",
      " concatenate_6 (Concatenate)    (None, 240, 320, 12  0           ['pv_block_8_guided_upsamling[0][\n",
      "                                8)                               0]',                             \n",
      "                                                                  'model[0][0]']                  \n",
      "                                                                                                  \n",
      " pv_block_9_prepare_conv2d (Par  (None, 240, 320, 32  36864      ['concatenate_6[0][0]',          \n",
      " tialConvolution)               )                                 'segmentation_half_size[0][0]'] \n",
      "                                                                                                  \n",
      " pv_block_9_clade (ClassAdaptiv  (None, 240, 320, 32  640        ['pv_block_9_prepare_conv2d[0][0]\n",
      " eWeightedNormalization)        )                                ',                               \n",
      "                                                                  'segmentation_half_size[0][0]'] \n",
      "                                                                                                  \n",
      " tf.math.multiply_7 (TFOpLambda  (None, 240, 320, 32  0          ['pv_block_9_clade[0][0]']       \n",
      " )                              )                                                                 \n",
      "                                                                                                  \n",
      " pv_block_9_relu1 (Activation)  (None, 240, 320, 32  0           ['pv_block_9_clade[0][0]']       \n",
      "                                )                                                                 \n",
      "                                                                                                  \n",
      " pv_block_9_relu2 (Activation)  (None, 240, 320, 32  0           ['tf.math.multiply_7[0][0]']     \n",
      "                                )                                                                 \n",
      "                                                                                                  \n",
      " subtract_6 (Subtract)          (None, 240, 320, 32  0           ['pv_block_9_relu1[0][0]',       \n",
      "                                )                                 'pv_block_9_relu2[0][0]']       \n",
      "                                                                                                  \n",
      " pv_block_9_guided_upsamling (G  (None, 480, 640, 32  0          ['subtract_6[0][0]',             \n",
      " uidedUpsampling)               )                                 'segmentation_half_size[0][0]', \n",
      "                                                                  'tf.stop_gradient[0][0]']       \n",
      "                                                                                                  \n",
      " concatenate_7 (Concatenate)    (None, 480, 640, 35  0           ['pv_block_9_guided_upsamling[0][\n",
      "                                )                                0]',                             \n",
      "                                                                  'data[0][0]']                   \n",
      "                                                                                                  \n",
      " pv_block_10_prepare_conv2d (Pa  (None, 480, 640, 32  10080      ['concatenate_7[0][0]',          \n",
      " rtialConvolution)              )                                 'tf.stop_gradient[0][0]']       \n",
      "                                                                                                  \n",
      " pv_block_10_clade (ClassAdapti  (None, 480, 640, 32  640        ['pv_block_10_prepare_conv2d[0][0\n",
      " veWeightedNormalization)       )                                ]',                              \n",
      "                                                                  'tf.stop_gradient[0][0]']       \n",
      "                                                                                                  \n",
      " tf.math.multiply_8 (TFOpLambda  (None, 480, 640, 32  0          ['pv_block_10_clade[0][0]']      \n",
      " )                              )                                                                 \n",
      "                                                                                                  \n",
      " pv_block_10_relu1 (Activation)  (None, 480, 640, 32  0          ['pv_block_10_clade[0][0]']      \n",
      "                                )                                                                 \n",
      "                                                                                                  \n",
      " pv_block_10_relu2 (Activation)  (None, 480, 640, 32  0          ['tf.math.multiply_8[0][0]']     \n",
      "                                )                                                                 \n",
      "                                                                                                  \n",
      " subtract_7 (Subtract)          (None, 480, 640, 32  0           ['pv_block_10_relu1[0][0]',      \n",
      "                                )                                 'pv_block_10_relu2[0][0]']      \n",
      "                                                                                                  \n",
      " pv_final_conv_vertex (Conv2D)  (None, 480, 640, 27  864         ['subtract_7[0][0]']             \n",
      "                                )                                                                 \n",
      "                                                                                                  \n",
      " pv_final_concatenation (Concat  (None, 480, 640, 36  0          ['pv_final_conv_segmentation[0][0\n",
      " enate)                         )                                ]',                              \n",
      "                                                                  'pv_final_conv_vertex[0][0]']   \n",
      "                                                                                                  \n",
      "==================================================================================================\n",
      "Total params: 14,759,433\n",
      "Trainable params: 0\n",
      "Non-trainable params: 14,759,433\n",
      "__________________________________________________________________________________________________\n"
     ]
    }
   ],
   "source": [
    "net.summary()"
   ]
  },
  {
   "cell_type": "code",
   "execution_count": 41,
   "id": "3e0204a6",
   "metadata": {},
   "outputs": [],
   "source": [
    "with open(opt.evalf + \"/speed_eval.csv\", \"w\") as file:\n",
    "    file.write(\"batchid,speed \\n\")"
   ]
  },
  {
   "cell_type": "code",
   "execution_count": 42,
   "id": "0d9b58f5",
   "metadata": {},
   "outputs": [],
   "source": [
    "def runnetwork(loader_iterator, batches, keypoints, camera_matrix, no_objects):\n",
    "    @tf.function\n",
    "    def test_step(img_batch):\n",
    "        start_time = tf.timestamp()\n",
    "        no_points = opt.no_points\n",
    "        net_input = [tf.expand_dims(img_batch[0], 0)]\n",
    "        output_net = net(net_input, training=False)  # all stages are present here\n",
    "        output_seg, output_dirs, confidence = tf.split(output_net, [no_objects, no_points * 2, -1], 3)\n",
    "        coordLSV_in = [output_seg, output_dirs, confidence]\n",
    "        coords = CoordLSVotingWeighted(\n",
    "            name=\"coords_ls_voting\",\n",
    "            num_classes=no_objects,\n",
    "            num_points=no_points,\n",
    "            filter_estimates=True,\n",
    "        )(coordLSV_in)\n",
    "        poses_est = poses_pnp(\n",
    "            coords, output_seg, keypoints, camera_matrix, no_objects - 1, min_num=opt.min_object_size_test\n",
    "        )\n",
    "        tf.print(poses_est[0, 0, 0, 0, 0])  # access memory to get sure everything is done\n",
    "        tf.print('tf.print=', output_seg)\n",
    "\n",
    "        end_time = tf.timestamp()\n",
    "        time_needed = end_time - start_time\n",
    "        return time_needed\n",
    "\n",
    "    speed = []\n",
    "    for batch_idx in range(batches):\n",
    "        img_batch = loader_iterator.get_next()\n",
    "        time_needed = test_step(img_batch)\n",
    "        speed.append(time_needed)\n",
    "        with open(opt.evalf + \"/speed_eval.csv\", \"a\") as file:\n",
    "            s = \"{},{:.7f}\\n\".format(batch_idx + 1, time_needed)\n",
    "            file.write(s)\n",
    "\n",
    "    tf.print(\"average speed: {}\".format(tf.reduce_mean(speed[10:])), summarize=-1)\n",
    "\n",
    "    return loader_iterator"
   ]
  },
  {
   "cell_type": "code",
   "execution_count": null,
   "id": "17c77fbc",
   "metadata": {},
   "outputs": [],
   "source": []
  },
  {
   "cell_type": "code",
   "execution_count": 43,
   "id": "8f754786",
   "metadata": {},
   "outputs": [
    {
     "name": "stdout",
     "output_type": "stream",
     "text": [
      "Test Batches: 5.0 \n"
     ]
    }
   ],
   "source": [
    "print(\"Test Batches: {} \".format(test_batches))"
   ]
  },
  {
   "cell_type": "code",
   "execution_count": 44,
   "id": "12a687ae",
   "metadata": {},
   "outputs": [],
   "source": [
    "testingdata_iterator = iter(testingdata)"
   ]
  },
  {
   "cell_type": "code",
   "execution_count": 45,
   "id": "c43e77f6",
   "metadata": {},
   "outputs": [],
   "source": [
    "img_batch = testingdata_iterator.get_next()"
   ]
  },
  {
   "cell_type": "code",
   "execution_count": 46,
   "id": "a907930a",
   "metadata": {},
   "outputs": [
    {
     "data": {
      "text/plain": [
       "1"
      ]
     },
     "execution_count": 46,
     "metadata": {},
     "output_type": "execute_result"
    }
   ],
   "source": [
    "len(img_batch)"
   ]
  },
  {
   "cell_type": "code",
   "execution_count": 47,
   "id": "2f676ddc",
   "metadata": {},
   "outputs": [],
   "source": [
    "keypoints_array = np.array([[[[[-9.7732497e-03,  3.6659201e-03, -1.4534000e-03],\n",
    "          [ 3.6046398e+01, -1.4680500e+01, -4.5020599e+01],\n",
    "          [-3.0289101e+01, -7.2402501e+00, -4.2632900e+01],\n",
    "          [ 7.4425201e+00,  2.3966400e+01, -3.9362701e+01],\n",
    "          [-4.3485899e+00,  3.6769500e+00,  4.5835800e+01],\n",
    "          [ 6.2882501e-01, -3.6412800e+01, -2.7732599e+01],\n",
    "          [-2.6754901e-01,  3.7588799e+01, -4.7640200e+00],\n",
    "          [ 3.0029400e+01, -2.3939800e+01, -8.1097898e+00],\n",
    "          [-2.8789900e+01, -1.9449200e+01, -9.0417604e+00]]],\n",
    "\n",
    "\n",
    "        [[[ 1.6300200e-02, -2.3040799e-03, -1.1291500e-02],\n",
    "          [ 5.5248199e+00,  5.4157101e+01, -9.6322701e+01],\n",
    "          [-4.1018100e+00,  1.2732400e+01,  9.6678497e+01],\n",
    "          [-9.1580000e+00, -4.1244202e+01, -8.7472397e+01],\n",
    "          [ 7.3375401e+00,  9.0886101e+01, -1.1365300e+01],\n",
    "          [-1.0262200e+01, -9.0547600e+01, -3.7563899e-01],\n",
    "          [-4.7794201e+01,  1.6508699e+01, -5.6376900e+01],\n",
    "          [ 4.8287998e+01,  2.4022501e+00, -6.2877899e+01],\n",
    "          [ 4.6154099e+01,  1.1302400e+01,  4.9851101e+01]]],\n",
    "\n",
    "\n",
    "        [[[ 1.7128000e-02, -4.5700101e-03, -5.3901700e-03],\n",
    "          [ 2.0947300e+01, -6.1587502e+01, -5.4198200e+01],\n",
    "          [-2.0933701e+01,  6.3563000e+01,  2.6130899e+01],\n",
    "          [ 2.8901501e+01,  2.7392700e+01, -5.7568199e+01],\n",
    "          [ 1.4403200e+00, -5.8665901e+01,  2.2473900e+01],\n",
    "          [ 1.2946500e+01,  1.4082400e+01,  5.8292999e+01],\n",
    "          [-2.8743299e+01,  1.6301001e+01, -5.2558300e+01],\n",
    "          [-3.3441200e+01, -4.1310501e+01, -5.4232101e+01],\n",
    "          [ 2.3869900e+01,  4.1699699e+01,  1.6587299e+01]]],\n",
    "\n",
    "\n",
    "        [[[-2.4108901e-03, -6.2332200e-03, -6.3247699e-03],\n",
    "          [ 1.1291000e+02, -3.4727199e+00,  9.2172699e+01],\n",
    "          [-1.1182900e+02,  3.1709600e-02,  6.1154400e+01],\n",
    "          [-6.2377201e+01,  1.0970700e+01, -1.0025700e+02],\n",
    "          [ 4.2661201e+01, -2.4666700e+01, -9.9452499e+01],\n",
    "          [ 1.0724100e+01, -3.5357201e+00,  1.0133300e+02],\n",
    "          [-4.1970699e+01, -3.1155399e+01,  5.4645599e+01],\n",
    "          [ 4.9310899e+00,  3.6434399e+01, -9.7123596e+01],\n",
    "          [ 5.6840302e+01, -4.2665200e+00,  4.8058399e+01]]],\n",
    "\n",
    "\n",
    "        [[[-3.4179699e-03, -9.8838797e-03,  3.9329501e-03],\n",
    "          [ 4.9320702e+01,  6.2302999e+00, -4.0302898e+01],\n",
    "          [-4.6246700e+01,  2.3396499e+00, -3.7502899e+01],\n",
    "          [ 1.2448000e+01, -3.3365299e+01, -4.0734501e+01],\n",
    "          [ 3.9640200e+00,  3.4297600e+01, -4.0923302e+01],\n",
    "          [ 4.5272598e+01, -1.0067500e+00,  2.1399401e+01],\n",
    "          [ 6.6833901e+00, -3.1548400e+00,  4.2783199e+01],\n",
    "          [-2.3509399e+01, -2.7834400e+01, -1.9335600e+01],\n",
    "          [-4.1355202e+01,  1.3988900e-01,  1.3391900e+00]]],\n",
    "\n",
    "\n",
    "        [[[-1.7417900e-02, -4.2999300e-01, -1.3252300e-02],\n",
    "          [-7.0443398e+01,  4.3526299e+01,  4.2999201e+00],\n",
    "          [ 7.3233902e+01,  3.5586300e+01,  4.8644700e+00],\n",
    "          [ 6.7131897e+01, -4.4466202e+01, -2.7725799e+00],\n",
    "          [-7.0990898e+01, -3.6974701e+01, -1.3353300e+00],\n",
    "          [-4.7924999e+01,  5.5036702e+00, -3.2836399e+01],\n",
    "          [ 2.2584101e+01,  4.1242500e+01,  3.2724400e+01],\n",
    "          [-2.4753901e+01, -4.0470100e+01,  3.2213699e+01],\n",
    "          [ 4.7744598e+01,  4.2735401e-01, -3.1653799e+01]]],\n",
    "\n",
    "\n",
    "        [[[ 9.9391900e-03, -1.1459400e-02,  6.8359398e-03],\n",
    "          [-9.1147299e+00, -3.1402399e+01, -8.5777802e+01],\n",
    "          [ 9.7676700e-01,  2.9348700e+00,  8.6390404e+01],\n",
    "          [ 6.4356799e+00,  3.7870701e+01, -6.3978802e+01],\n",
    "          [ 9.7071304e+00, -3.6640800e+01, -3.6885799e+01],\n",
    "          [-1.5302700e+01,  1.4431200e+00, -4.7971500e+01],\n",
    "          [-6.0784298e-01, -1.2160700e+01,  4.3689098e+01],\n",
    "          [ 1.7079800e+01,  1.9666600e+00, -8.3763802e+01],\n",
    "          [-4.1084499e+00,  3.5197800e+01, -2.3239799e+01]]],\n",
    "\n",
    "\n",
    "        [[[-6.8052673e-01,  4.3509445e+00, -1.5487452e+00],\n",
    "          [ 5.8407185e+01, -8.2160988e+01, -1.2327696e+01],\n",
    "          [-9.1078697e+01, -4.6658367e+01, -7.3403926e+00],\n",
    "          [ 9.6684196e+01,  1.5651445e+01,  2.6858237e+00],\n",
    "          [-7.8112083e+01,  6.0135139e+01, -6.0886226e+00],\n",
    "          [ 3.1481721e+00,  9.0496506e+01, -1.1837043e+01],\n",
    "          [-1.9831656e+01, -8.0089989e+01, -2.5694869e+00],\n",
    "          [ 5.0045956e+01,  5.1196590e+01, -1.4792501e+01],\n",
    "          [ 2.3459833e+01, -4.9363476e+01,  1.9859182e+01]]]]],\n",
    "      )"
   ]
  },
  {
   "cell_type": "code",
   "execution_count": 48,
   "id": "7c220209",
   "metadata": {},
   "outputs": [
    {
     "data": {
      "text/plain": [
       "(1, 8, 1, 9, 3)"
      ]
     },
     "execution_count": 48,
     "metadata": {},
     "output_type": "execute_result"
    }
   ],
   "source": [
    "keypoints_array.shape"
   ]
  },
  {
   "cell_type": "code",
   "execution_count": 49,
   "id": "b12f71ea",
   "metadata": {},
   "outputs": [],
   "source": [
    "keypoints = tf.convert_to_tensor(keypoints_array, dtype=tf.float32)"
   ]
  },
  {
   "cell_type": "code",
   "execution_count": 50,
   "id": "60f3b760",
   "metadata": {},
   "outputs": [],
   "source": [
    "camera_matrix_array = np.array([[[572.4114 ,   0.     , 325.2611 ],\n",
    "        [  0.     , 573.57043, 242.049  ],\n",
    "        [  0.     ,   0.     ,   1.     ]]])"
   ]
  },
  {
   "cell_type": "code",
   "execution_count": 51,
   "id": "85fcb0ca",
   "metadata": {},
   "outputs": [
    {
     "data": {
      "text/plain": [
       "(1, 3, 3)"
      ]
     },
     "execution_count": 51,
     "metadata": {},
     "output_type": "execute_result"
    }
   ],
   "source": [
    "camera_matrix_array.shape"
   ]
  },
  {
   "cell_type": "code",
   "execution_count": 52,
   "id": "242debe7",
   "metadata": {},
   "outputs": [],
   "source": [
    "camera_matrix = tf.convert_to_tensor(camera_matrix_array, dtype=tf.float32)"
   ]
  },
  {
   "cell_type": "code",
   "execution_count": 53,
   "id": "700fd6a2",
   "metadata": {},
   "outputs": [
    {
     "data": {
      "text/plain": [
       "<tf.Tensor: shape=(1, 8, 1, 9, 3), dtype=float32, numpy=\n",
       "array([[[[[-9.7732497e-03,  3.6659201e-03, -1.4534000e-03],\n",
       "          [ 3.6046398e+01, -1.4680500e+01, -4.5020599e+01],\n",
       "          [-3.0289101e+01, -7.2402501e+00, -4.2632900e+01],\n",
       "          [ 7.4425201e+00,  2.3966400e+01, -3.9362701e+01],\n",
       "          [-4.3485899e+00,  3.6769500e+00,  4.5835800e+01],\n",
       "          [ 6.2882501e-01, -3.6412800e+01, -2.7732599e+01],\n",
       "          [-2.6754901e-01,  3.7588799e+01, -4.7640200e+00],\n",
       "          [ 3.0029400e+01, -2.3939800e+01, -8.1097898e+00],\n",
       "          [-2.8789900e+01, -1.9449200e+01, -9.0417604e+00]]],\n",
       "\n",
       "\n",
       "        [[[ 1.6300200e-02, -2.3040799e-03, -1.1291500e-02],\n",
       "          [ 5.5248199e+00,  5.4157101e+01, -9.6322701e+01],\n",
       "          [-4.1018100e+00,  1.2732400e+01,  9.6678497e+01],\n",
       "          [-9.1580000e+00, -4.1244202e+01, -8.7472397e+01],\n",
       "          [ 7.3375401e+00,  9.0886101e+01, -1.1365300e+01],\n",
       "          [-1.0262200e+01, -9.0547600e+01, -3.7563899e-01],\n",
       "          [-4.7794201e+01,  1.6508699e+01, -5.6376900e+01],\n",
       "          [ 4.8287998e+01,  2.4022501e+00, -6.2877899e+01],\n",
       "          [ 4.6154099e+01,  1.1302400e+01,  4.9851101e+01]]],\n",
       "\n",
       "\n",
       "        [[[ 1.7128000e-02, -4.5700101e-03, -5.3901700e-03],\n",
       "          [ 2.0947300e+01, -6.1587502e+01, -5.4198200e+01],\n",
       "          [-2.0933701e+01,  6.3563000e+01,  2.6130899e+01],\n",
       "          [ 2.8901501e+01,  2.7392700e+01, -5.7568199e+01],\n",
       "          [ 1.4403200e+00, -5.8665901e+01,  2.2473900e+01],\n",
       "          [ 1.2946500e+01,  1.4082400e+01,  5.8292999e+01],\n",
       "          [-2.8743299e+01,  1.6301001e+01, -5.2558300e+01],\n",
       "          [-3.3441200e+01, -4.1310501e+01, -5.4232101e+01],\n",
       "          [ 2.3869900e+01,  4.1699699e+01,  1.6587299e+01]]],\n",
       "\n",
       "\n",
       "        [[[-2.4108901e-03, -6.2332200e-03, -6.3247699e-03],\n",
       "          [ 1.1291000e+02, -3.4727199e+00,  9.2172699e+01],\n",
       "          [-1.1182900e+02,  3.1709600e-02,  6.1154400e+01],\n",
       "          [-6.2377201e+01,  1.0970700e+01, -1.0025700e+02],\n",
       "          [ 4.2661201e+01, -2.4666700e+01, -9.9452499e+01],\n",
       "          [ 1.0724100e+01, -3.5357201e+00,  1.0133300e+02],\n",
       "          [-4.1970699e+01, -3.1155399e+01,  5.4645599e+01],\n",
       "          [ 4.9310899e+00,  3.6434399e+01, -9.7123596e+01],\n",
       "          [ 5.6840302e+01, -4.2665200e+00,  4.8058399e+01]]],\n",
       "\n",
       "\n",
       "        [[[-3.4179699e-03, -9.8838797e-03,  3.9329501e-03],\n",
       "          [ 4.9320702e+01,  6.2302999e+00, -4.0302898e+01],\n",
       "          [-4.6246700e+01,  2.3396499e+00, -3.7502899e+01],\n",
       "          [ 1.2448000e+01, -3.3365299e+01, -4.0734501e+01],\n",
       "          [ 3.9640200e+00,  3.4297600e+01, -4.0923302e+01],\n",
       "          [ 4.5272598e+01, -1.0067500e+00,  2.1399401e+01],\n",
       "          [ 6.6833901e+00, -3.1548400e+00,  4.2783199e+01],\n",
       "          [-2.3509399e+01, -2.7834400e+01, -1.9335600e+01],\n",
       "          [-4.1355202e+01,  1.3988900e-01,  1.3391900e+00]]],\n",
       "\n",
       "\n",
       "        [[[-1.7417900e-02, -4.2999300e-01, -1.3252300e-02],\n",
       "          [-7.0443398e+01,  4.3526299e+01,  4.2999201e+00],\n",
       "          [ 7.3233902e+01,  3.5586300e+01,  4.8644700e+00],\n",
       "          [ 6.7131897e+01, -4.4466202e+01, -2.7725799e+00],\n",
       "          [-7.0990898e+01, -3.6974701e+01, -1.3353300e+00],\n",
       "          [-4.7924999e+01,  5.5036702e+00, -3.2836399e+01],\n",
       "          [ 2.2584101e+01,  4.1242500e+01,  3.2724400e+01],\n",
       "          [-2.4753901e+01, -4.0470100e+01,  3.2213699e+01],\n",
       "          [ 4.7744598e+01,  4.2735401e-01, -3.1653799e+01]]],\n",
       "\n",
       "\n",
       "        [[[ 9.9391900e-03, -1.1459400e-02,  6.8359398e-03],\n",
       "          [-9.1147299e+00, -3.1402399e+01, -8.5777802e+01],\n",
       "          [ 9.7676700e-01,  2.9348700e+00,  8.6390404e+01],\n",
       "          [ 6.4356799e+00,  3.7870701e+01, -6.3978802e+01],\n",
       "          [ 9.7071304e+00, -3.6640800e+01, -3.6885799e+01],\n",
       "          [-1.5302700e+01,  1.4431200e+00, -4.7971500e+01],\n",
       "          [-6.0784298e-01, -1.2160700e+01,  4.3689098e+01],\n",
       "          [ 1.7079800e+01,  1.9666600e+00, -8.3763802e+01],\n",
       "          [-4.1084499e+00,  3.5197800e+01, -2.3239799e+01]]],\n",
       "\n",
       "\n",
       "        [[[-6.8052673e-01,  4.3509445e+00, -1.5487452e+00],\n",
       "          [ 5.8407185e+01, -8.2160988e+01, -1.2327696e+01],\n",
       "          [-9.1078697e+01, -4.6658367e+01, -7.3403926e+00],\n",
       "          [ 9.6684196e+01,  1.5651445e+01,  2.6858237e+00],\n",
       "          [-7.8112083e+01,  6.0135139e+01, -6.0886226e+00],\n",
       "          [ 3.1481721e+00,  9.0496506e+01, -1.1837043e+01],\n",
       "          [-1.9831656e+01, -8.0089989e+01, -2.5694869e+00],\n",
       "          [ 5.0045956e+01,  5.1196590e+01, -1.4792501e+01],\n",
       "          [ 2.3459833e+01, -4.9363476e+01,  1.9859182e+01]]]]],\n",
       "      dtype=float32)>"
      ]
     },
     "execution_count": 53,
     "metadata": {},
     "output_type": "execute_result"
    }
   ],
   "source": [
    "keypoints"
   ]
  },
  {
   "cell_type": "code",
   "execution_count": 54,
   "id": "c1015679",
   "metadata": {},
   "outputs": [
    {
     "data": {
      "text/plain": [
       "<tf.Tensor: shape=(1, 3, 3), dtype=float32, numpy=\n",
       "array([[[572.4114 ,   0.     , 325.2611 ],\n",
       "        [  0.     , 573.57043, 242.049  ],\n",
       "        [  0.     ,   0.     ,   1.     ]]], dtype=float32)>"
      ]
     },
     "execution_count": 54,
     "metadata": {},
     "output_type": "execute_result"
    }
   ],
   "source": [
    "camera_matrix"
   ]
  },
  {
   "cell_type": "code",
   "execution_count": 55,
   "id": "e9170c2e",
   "metadata": {},
   "outputs": [],
   "source": [
    "#img_batch[4]"
   ]
  },
  {
   "cell_type": "code",
   "execution_count": 93,
   "id": "9ae2314d",
   "metadata": {},
   "outputs": [
    {
     "data": {
      "text/plain": [
       "<tf.Tensor: shape=(1, 3, 3), dtype=float32, numpy=\n",
       "array([[[572.4114 ,   0.     , 325.2611 ],\n",
       "        [  0.     , 573.57043, 242.049  ],\n",
       "        [  0.     ,   0.     ,   1.     ]]], dtype=float32)>"
      ]
     },
     "execution_count": 93,
     "metadata": {},
     "output_type": "execute_result"
    }
   ],
   "source": [
    "#img_batch[5]"
   ]
  },
  {
   "cell_type": "code",
   "execution_count": 56,
   "id": "abe5e0e7",
   "metadata": {},
   "outputs": [],
   "source": [
    "#keypoints = img_batch[4]\n",
    "#camera_matrix = img_batch[5]"
   ]
  },
  {
   "cell_type": "code",
   "execution_count": null,
   "id": "f09b46e4",
   "metadata": {},
   "outputs": [],
   "source": []
  },
  {
   "cell_type": "code",
   "execution_count": 57,
   "id": "5233a0bb",
   "metadata": {},
   "outputs": [
    {
     "name": "stdout",
     "output_type": "stream",
     "text": [
      "WARNING:tensorflow:From /usr/local/lib/python3.8/dist-packages/tensorflow/python/util/deprecation.py:629: calling map_fn_v2 (from tensorflow.python.ops.map_fn) with dtype is deprecated and will be removed in a future version.\n",
      "Instructions for updating:\n",
      "Use fn_output_signature instead\n",
      "[TensorShape([8, 9, 2]), TensorShape([8, 9, 3]), TensorShape([3, 3])]\n"
     ]
    },
    {
     "name": "stderr",
     "output_type": "stream",
     "text": [
      "2023-04-06 19:32:11.447711: I tensorflow/stream_executor/cuda/cuda_dnn.cc:384] Loaded cuDNN version 8401\n",
      "2023-04-06 19:32:14.403761: I tensorflow/stream_executor/cuda/cuda_blas.cc:1804] TensorFloat-32 will be used for the matrix multiplication. This will only be logged once.\n",
      "2023-04-06 19:32:14.693088: I tensorflow/compiler/xla/service/service.cc:170] XLA service 0x7efc7c8566b0 initialized for platform CUDA (this does not guarantee that XLA will be used). Devices:\n",
      "2023-04-06 19:32:14.693138: I tensorflow/compiler/xla/service/service.cc:178]   StreamExecutor device (0): NVIDIA A10G, Compute Capability 8.6\n",
      "2023-04-06 19:32:14.765468: I tensorflow/compiler/mlir/tensorflow/utils/dump_mlir_util.cc:263] disabling MLIR crash reproducer, set env var `MLIR_CRASH_REPRODUCER_DIRECTORY` to enable.\n",
      "2023-04-06 19:32:15.586602: I tensorflow/compiler/jit/xla_compilation_cache.cc:481] Compiled cluster using XLA!  This line is logged at most once for the lifetime of the process.\n",
      "2023-04-06 19:32:19.498923: W tensorflow/compiler/tf2xla/kernels/assert_op.cc:38] Ignoring Assert operator Assert/Assert\n",
      "2023-04-06 19:32:19.511778: W tensorflow/compiler/tf2xla/kernels/assert_op.cc:38] Ignoring Assert operator Assert_1/Assert\n",
      "2023-04-06 19:32:19.511846: W tensorflow/compiler/tf2xla/kernels/assert_op.cc:38] Ignoring Assert operator Assert_2/Assert\n",
      "2023-04-06 19:32:19.511882: W tensorflow/compiler/tf2xla/kernels/assert_op.cc:38] Ignoring Assert operator Assert_3/Assert\n"
     ]
    },
    {
     "name": "stdout",
     "output_type": "stream",
     "text": [
      "-0.925360084\n",
      "tf.print= [[[[-0.0578267425 0.0547863767 0.00218745857 ... -0.110988475 -0.000841193 -0.152722359]\n",
      "   [-0.0369873233 0.134331346 0.0189906303 ... -0.0904605538 0.0147983702 -0.157904372]\n",
      "   [-0.0145833129 0.150997877 0.00718277181 ... -0.0358056 0.0343351588 -0.119491696]\n",
      "   ...\n",
      "   [0.152773753 0.17745173 -0.207866713 ... 0.0678132251 -0.166177988 0.0776503384]\n",
      "   [0.125595823 0.15193294 -0.231210098 ... 0.0662854463 -0.127840087 0.137255266]\n",
      "   [-0.0352426656 0.227821022 -0.0372289643 ... -0.0525983498 0.0835434794 -0.0571290068]]\n",
      "\n",
      "  [[-0.0704033822 0.150795236 0.145627499 ... -0.170981735 -0.00872801058 -0.30433616]\n",
      "   [0.159804344 0.298555344 0.0928240642 ... -0.126922444 -0.0848130211 -0.222648308]\n",
      "   [0.209027365 0.319793165 0.0829005912 ... -0.100691631 -0.0721257776 -0.173886091]\n",
      "   ...\n",
      "   [0.164129212 0.145432428 -0.153351083 ... 0.0345689096 -0.0756454766 0.174294278]\n",
      "   [0.0919490531 0.053765431 -0.186145604 ... 0.0341878869 -0.120431535 0.252732843]\n",
      "   [-0.0920079499 0.0800131187 0.0923916921 ... -0.183685303 -0.0545315854 0.0729412]]\n",
      "\n",
      "  [[-0.0409726351 0.148876682 0.180858538 ... -0.202484325 -0.0059585562 -0.355037808]\n",
      "   [0.17936 0.279357523 0.107853919 ... -0.180029973 -0.104571342 -0.277181089]\n",
      "   [0.262862 0.30962196 0.0836940855 ... -0.119505934 -0.116496809 -0.178106233]\n",
      "   ...\n",
      "   [0.204626068 0.10840331 -0.145011187 ... 0.125538304 -0.104662232 0.249550119]\n",
      "   [0.0935599208 0.0140298558 -0.173245758 ... 0.0915868878 -0.131432846 0.319899976]\n",
      "   [-0.0624137409 0.0808017477 0.101019412 ... -0.162450105 -0.0409029536 0.108582906]]\n",
      "\n",
      "  ...\n",
      "\n",
      "  [[0.0444863327 0.131329745 0.159290835 ... -0.293449402 0.0362406559 -0.271381289]\n",
      "   [0.167209461 0.30464983 0.144182444 ... -0.228594691 -0.122874103 -0.168098852]\n",
      "   [0.243274435 0.356832206 0.185818568 ... -0.254529506 -0.250591069 -0.0962703675]\n",
      "   ...\n",
      "   [0.0402222574 0.0847904608 0.0504071154 ... -0.0728030577 -0.254335403 0.30093655]\n",
      "   [-0.0155450711 0.0053673191 0.0173596665 ... 0.0623028204 -0.18777211 0.423804224]\n",
      "   [-0.292788237 0.228418976 0.27742517 ... -0.158026814 0.00230369437 0.207773462]]\n",
      "\n",
      "  [[0.081521228 0.231167853 0.167219028 ... -0.224979788 0.0166604966 -0.221516475]\n",
      "   [0.224262297 0.369331241 0.202664971 ... -0.211640745 -0.152458057 -0.103610948]\n",
      "   [0.22584106 0.410001427 0.248585954 ... -0.289426208 -0.256349534 -0.0570814684]\n",
      "   ...\n",
      "   [0.0405577719 0.151018158 0.0540315546 ... -0.156119257 -0.189128757 0.270763099]\n",
      "   [0.0268162675 0.0739583522 0.00990598276 ... -0.0141444169 -0.110159993 0.374454051]\n",
      "   [-0.282024205 0.224790677 0.281908453 ... -0.154636577 0.0309479833 0.215695977]]\n",
      "\n",
      "  [[0.125503182 0.276853979 0.146279961 ... 0.0318042301 -0.0340518951 -0.0608776174]\n",
      "   [0.305176646 0.441035897 0.144644171 ... -0.0473237149 -0.0726087913 0.0432433635]\n",
      "   [0.307248205 0.453346699 0.188058853 ... -0.0425821282 -0.125045404 0.111958958]\n",
      "   ...\n",
      "   [0.22993803 0.216348544 0.0600829981 ... 0.0943633541 -0.0946758091 0.469257146]\n",
      "   [0.192843333 0.166880384 0.0185893327 ... 0.0694432259 -0.0163579453 0.447771043]\n",
      "   [-0.101190343 0.184041873 0.146931365 ... 0.0316620953 0.125571415 0.255667329]]]]\n",
      "0.716837\n",
      "tf.print= [[[[0.0439513251 -0.0402723849 -0.064456284 ... -0.0373784937 -0.116549715 -0.0736495]\n",
      "   [0.0753009245 0.0924975052 -0.141511261 ... -0.0838501155 -0.0828209221 -0.10115733]\n",
      "   [0.0514814779 0.11956428 -0.136646509 ... -0.0269971769 -0.0450085551 -0.0620961301]\n",
      "   ...\n",
      "   [0.179184273 0.187227175 -0.179587811 ... 0.0685012713 -0.0963771641 -0.00109478692]\n",
      "   [0.107404143 0.135780856 -0.193025619 ... 0.110751778 -0.0660566166 0.0932777226]\n",
      "   [-0.0315138213 0.182232663 0.00854967255 ... 0.0501978844 0.0584522225 -0.0185068548]]\n",
      "\n",
      "  [[0.0247186925 -0.00654342817 0.0136165405 ... -0.0691922307 -0.0925730467 -0.0952847153]\n",
      "   [0.153432563 0.165081456 -0.0951139107 ... -0.137442097 -0.0349649452 -0.140171692]\n",
      "   [0.208080977 0.215639159 -0.115993194 ... -0.0821496248 -0.0139686558 -0.0516148806]\n",
      "   ...\n",
      "   [0.298586726 0.25933817 -0.13419126 ... -0.0539504401 -0.0539972484 0.00899918284]\n",
      "   [0.155676603 0.159625307 -0.158489227 ... -0.0576368123 -0.0914272 0.0366221145]\n",
      "   [-0.0109884227 0.153522819 0.120789438 ... -0.134663746 -0.0808646753 -0.0604004301]]\n",
      "\n",
      "  [[0.0351633541 -0.0393967368 0.0119908536 ... -0.0992006287 -0.126322865 -0.11819642]\n",
      "   [0.116171733 0.1591959 -0.109700061 ... -0.136387408 -0.0803666115 -0.143402219]\n",
      "   [0.205564395 0.220854476 -0.143971726 ... -0.0683606789 -0.0784213394 -0.0138729382]\n",
      "   ...\n",
      "   [0.262024522 0.168324769 -0.0674040914 ... 0.0447531082 -0.084758088 0.0926198587]\n",
      "   [0.143970385 0.122516759 -0.143774539 ... -0.023038853 -0.124264531 0.0782226]\n",
      "   [0.039274212 0.133600116 0.119405463 ... -0.135824069 -0.0900064707 -0.032275077]]\n",
      "\n",
      "  ...\n",
      "\n",
      "  [[0.0774939135 0.0451628119 0.0753750876 ... -0.254980445 -0.0185112413 -0.189013541]\n",
      "   [0.15183644 0.243696406 0.0282084048 ... -0.196547031 -0.0975834951 -0.081049934]\n",
      "   [0.259424567 0.284297734 0.0426617041 ... -0.19783783 -0.209559694 0.0166187212]\n",
      "   ...\n",
      "   [0.160272822 0.291539252 0.146105215 ... -0.129667476 -0.203905419 0.0374263]\n",
      "   [0.121925637 0.260568947 0.125565678 ... -0.0298654605 -0.17312707 0.102650799]\n",
      "   [-0.0637825 0.353230774 0.250471711 ... -0.0996834785 -0.123381801 0.0227677356]]\n",
      "\n",
      "  [[0.110684082 0.0767061785 0.00897379778 ... -0.163190842 -0.0121989883 -0.0733953714]\n",
      "   [0.211300075 0.288583159 0.0320024192 ... -0.155816793 -0.0994694903 0.00724932924]\n",
      "   [0.263177544 0.311520517 0.0611927696 ... -0.216419756 -0.220987916 0.0781705678]\n",
      "   ...\n",
      "   [0.11237593 0.34391287 0.164448038 ... -0.196055889 -0.111458734 0.077279225]\n",
      "   [0.112588108 0.301402837 0.146277189 ... -0.0686003342 -0.0632692054 0.155573681]\n",
      "   [-0.0431203768 0.344567955 0.203874946 ... -0.091930069 -0.0746888 0.0635589585]]\n",
      "\n",
      "  [[0.118355162 0.129062161 0.00235658768 ... -0.000955920608 -0.0812658072 0.0753607824]\n",
      "   [0.292127252 0.320384681 0.0289573763 ... -0.0120659713 -0.070498459 0.160996348]\n",
      "   [0.313655913 0.315541297 0.0572691746 ... -0.0298206434 -0.158031404 0.235190406]\n",
      "   ...\n",
      "   [0.314811438 0.394530505 0.105643369 ... 0.130235836 -0.0454409458 0.349911273]\n",
      "   [0.321302563 0.341670722 0.0373941213 ... 0.114776604 -0.00925578829 0.314040959]\n",
      "   [0.099007681 0.296536624 0.0602148511 ... 0.0510506779 0.0934621915 0.182045549]]]]\n",
      "0.693645954\n",
      "tf.print= [[[[0.11066106 -0.0640261546 0.0577533953 ... -0.0133266952 -0.206496909 -0.0111343237]\n",
      "   [0.18111214 0.0835845694 -0.184171274 ... -0.100431375 -0.25148952 0.0654742047]\n",
      "   [0.162144244 0.0945143849 -0.184910566 ... -0.047341954 -0.256241441 0.146987796]\n",
      "   ...\n",
      "   [0.047536552 0.209075123 0.0310426224 ... -0.04322052 0.0171649083 -0.123648196]\n",
      "   [0.0235117562 0.201577783 0.0401290022 ... -0.0470914319 -0.00577361276 -0.0952390134]\n",
      "   [-0.0258306246 0.154352754 0.0861325637 ... 0.14355661 0.0169318784 0.00368995615]]\n",
      "\n",
      "  [[0.0865565613 -0.0262130871 0.0804312155 ... -0.0301359687 -0.15681459 0.0831063911]\n",
      "   [-0.0591158941 -0.00312840287 -0.0999394059 ... -0.182121053 -0.193951085 0.133682564]\n",
      "   [-0.000929096364 0.0417890437 -0.126592487 ... -0.1107089 -0.206579462 0.249414235]\n",
      "   ...\n",
      "   [0.283394754 0.414170116 0.0906297043 ... -0.130536586 -0.126249865 -0.242000565]\n",
      "   [0.191807628 0.339317948 0.0594903789 ... -0.124105468 -0.160567209 -0.147983894]\n",
      "   [0.0513164178 0.251473367 0.182072312 ... -0.0596455112 -0.120393217 -0.126893148]]\n",
      "\n",
      "  [[0.069200471 -0.0554556958 0.0752796382 ... -0.0745332092 -0.166240513 0.0244116168]\n",
      "   [-0.08950755 0.0110708093 -0.0871302038 ... -0.194545314 -0.216596395 0.105818249]\n",
      "   [-0.0076793232 0.058587186 -0.133447781 ... -0.0930190831 -0.233759448 0.259368658]\n",
      "   ...\n",
      "   [0.354596615 0.359138161 0.0598019734 ... -0.00944007654 -0.154461414 -0.0973601341]\n",
      "   [0.255408674 0.296745181 0.00101573905 ... -0.070417814 -0.191919819 -0.047048144]\n",
      "   [0.0827205926 0.233718172 0.166020855 ... -0.0707711 -0.113356456 -0.100591324]]\n",
      "\n",
      "  ...\n",
      "\n",
      "  [[0.0644889623 0.0712663531 0.0927793309 ... -0.232105568 -0.0141164176 -0.200673088]\n",
      "   [0.162468329 0.283398122 0.0444243513 ... -0.193869621 -0.0926312506 -0.0868367]\n",
      "   [0.248545647 0.321624 0.0870777741 ... -0.218951985 -0.207558051 -0.0150170736]\n",
      "   ...\n",
      "   [0.155262679 0.314371437 0.196337417 ... -0.14034988 -0.19212912 0.0087867]\n",
      "   [0.118530311 0.288277984 0.187436312 ... -0.0483128615 -0.180247784 0.0569402352]\n",
      "   [-0.0433132574 0.376295209 0.237744942 ... -0.0797195062 -0.133294389 -0.00206830772]]\n",
      "\n",
      "  [[0.0898627117 0.0880337581 0.0036683355 ... -0.140244603 -0.0148881366 -0.0600867085]\n",
      "   [0.204362363 0.306064785 0.0365224555 ... -0.133429646 -0.0934896097 0.0268763322]\n",
      "   [0.246044308 0.339104146 0.0903802514 ... -0.235331237 -0.218904138 0.0490540676]\n",
      "   ...\n",
      "   [0.110543981 0.350317836 0.188138589 ... -0.199455902 -0.108675793 0.0726877078]\n",
      "   [0.0984233394 0.319350064 0.179589972 ... -0.0770178512 -0.0605320968 0.136862323]\n",
      "   [-0.0391702354 0.355172575 0.204597786 ... -0.0742589608 -0.0767843202 0.0518003814]]\n",
      "\n",
      "  [[0.109672979 0.137244865 -0.0116544217 ... -0.0021863617 -0.0747703612 0.0949359238]\n",
      "   [0.28890866 0.322234362 0.0266474914 ... 0.00719478959 -0.0588767193 0.188299268]\n",
      "   [0.313658118 0.333662271 0.0690389499 ... -0.0236874949 -0.133981392 0.236231536]\n",
      "   ...\n",
      "   [0.316690415 0.406318843 0.111909039 ... 0.139885396 -0.0434103347 0.346424311]\n",
      "   [0.316792816 0.355540633 0.0512177311 ... 0.125540838 -0.0070799822 0.307730645]\n",
      "   [0.102739103 0.308361083 0.057412222 ... 0.0666586161 0.0972494259 0.180844605]]]]\n",
      "-0.524748921\n",
      "tf.print= [[[[-0.0238467604 0.0161390323 -0.0378923342 ... -0.0724732578 -0.0535700507 -0.119616956]\n",
      "   [-8.70683289e-05 0.103120342 -0.0506687 ... -0.0788030475 -0.0198736582 -0.115417972]\n",
      "   [0.0182364825 0.12222974 -0.0614893 ... -0.0267544426 0.00137057237 -0.0798121914]\n",
      "   ...\n",
      "   [0.114811882 0.182540536 -0.117840901 ... 0.00594954798 -0.0305583775 -0.0250894427]\n",
      "   [0.0497626 0.170040265 -0.114019126 ... -0.00651477231 0.00470421975 0.00470023509]\n",
      "   [-0.0379914418 0.184294745 0.0326016024 ... 0.0602100715 0.0638760701 -0.0194863174]]\n",
      "\n",
      "  [[-0.0414900891 0.0986375362 0.0981021449 ... -0.145650759 -0.0524780825 -0.24576278]\n",
      "   [0.163715586 0.241991356 0.0330557153 ... -0.11861413 -0.0636390597 -0.198781133]\n",
      "   [0.214896977 0.277377158 0.020555526 ... -0.110271871 -0.0425924659 -0.154761344]\n",
      "   ...\n",
      "   [0.273402125 0.238448665 -0.050566297 ... -0.110081479 -0.0783478692 -0.0585628375]\n",
      "   [0.163198173 0.199623346 -0.0893834531 ... -0.141977042 -0.120298758 -0.0443329401]\n",
      "   [0.016668994 0.180281863 0.124930568 ... -0.113445535 -0.111993387 -0.106164522]]\n",
      "\n",
      "  [[-0.0101785557 0.072309956 0.113494061 ... -0.165337607 -0.074939996 -0.280697554]\n",
      "   [0.160469472 0.209687471 0.0321630761 ... -0.158690333 -0.0774554685 -0.23681809]\n",
      "   [0.262214482 0.266760886 -0.0045000664 ... -0.117433406 -0.0708412305 -0.133367226]\n",
      "   ...\n",
      "   [0.304867029 0.21886979 -0.0323010236 ... -0.0307652466 -0.129700139 0.00899102539]\n",
      "   [0.181594193 0.1844448 -0.0793064833 ... -0.0950692445 -0.156484261 0.00265831198]\n",
      "   [0.0496148244 0.181981951 0.12375503 ... -0.1110247 -0.106688075 -0.0889819115]]\n",
      "\n",
      "  ...\n",
      "\n",
      "  [[0.0472708903 0.286826193 0.273231596 ... -0.295673639 0.110442162 -0.371243626]\n",
      "   [0.209518552 0.35194 0.325045794 ... -0.245736584 -0.152550176 -0.154467493]\n",
      "   [0.253930479 0.38280189 0.341319084 ... -0.282594025 -0.280313462 -0.0943498388]\n",
      "   ...\n",
      "   [-0.0993319 -0.059460748 -0.0166466646 ... -0.0597487465 -0.305059612 0.498827428]\n",
      "   [-0.0978319347 -0.0719743893 -0.0136470711 ... 0.000820151356 -0.238804623 0.567198873]\n",
      "   [-0.384940505 0.208352342 0.271476388 ... -0.231673867 0.0180257801 0.260971785]]\n",
      "\n",
      "  [[0.0405661277 0.359113038 0.29472515 ... -0.233364195 0.0918246955 -0.305325985]\n",
      "   [0.240945026 0.423436284 0.356188476 ... -0.226847142 -0.136277884 -0.119945139]\n",
      "   [0.203717887 0.456816643 0.409620881 ... -0.29049325 -0.239660457 -0.0775440112]\n",
      "   ...\n",
      "   [-0.102917455 -0.0454406627 -0.0343941525 ... -0.200355455 -0.226068676 0.475685269]\n",
      "   [-0.0981456339 -0.0349245891 -0.0332683958 ... -0.099226 -0.164575845 0.544207752]\n",
      "   [-0.404882312 0.217677847 0.2699444 ... -0.237297282 0.045446191 0.269001842]]\n",
      "\n",
      "  [[0.113628775 0.326449722 0.209381372 ... 0.0498876572 -0.0155503228 -0.116631567]\n",
      "   [0.293151855 0.506756544 0.210649073 ... -0.0310545824 -0.0517895147 0.0317729339]\n",
      "   [0.306752801 0.509822369 0.247753248 ... -0.0266262162 -0.113777101 0.100119777]\n",
      "   ...\n",
      "   [-0.0217698757 -0.00272288616 0.0950449482 ... -0.0838783234 0.00967646763 0.550337553]\n",
      "   [-0.0681241229 -0.00816376787 0.0494324118 ... -0.0989796445 0.109491467 0.500772536]\n",
      "   [-0.325612038 0.138862729 0.228442535 ... -0.0434067771 0.179018021 0.271607727]]]]\n",
      "-0.0622993708\n",
      "tf.print= [[[[0.0135391559 -0.021117229 -0.0571413934 ... -0.0583227 -0.0799864158 -0.0875688121]\n",
      "   [0.0348590352 0.075416021 -0.106658429 ... -0.0727402195 -0.059916757 -0.0794766]\n",
      "   [0.0416877978 0.101040512 -0.110081062 ... -0.0323626846 -0.0331179164 -0.0602153204]\n",
      "   ...\n",
      "   [0.143294811 0.176872447 -0.204461247 ... 0.0851739198 -0.134480149 0.0546082221]\n",
      "   [0.104046494 0.135532036 -0.219405696 ... 0.0925842375 -0.109666601 0.135116324]\n",
      "   [-0.0490600653 0.204751596 -0.0212877728 ... -0.0365166813 0.0888092294 -0.0485302657]]\n",
      "\n",
      "  [[-0.0121648367 0.0430742204 0.0627522916 ... -0.120561644 -0.0835612 -0.181698233]\n",
      "   [0.14883396 0.175721779 -0.0149385165 ... -0.118051313 -0.0560724325 -0.173733294]\n",
      "   [0.19172512 0.221932009 -0.0432192683 ... -0.10951256 -0.0281199217 -0.103127182]\n",
      "   ...\n",
      "   [0.207647711 0.156767234 -0.117804281 ... 0.0276643578 -0.0534557588 0.136335492]\n",
      "   [0.113408096 0.0824083388 -0.188379988 ... 0.029727133 -0.11426457 0.191302434]\n",
      "   [-0.0795668 0.0821471363 0.108713016 ... -0.165399611 -0.0649098307 0.050644163]]\n",
      "\n",
      "  [[0.0160883088 0.0257087983 0.0747017935 ... -0.156961977 -0.0969345793 -0.218087777]\n",
      "   [0.139255136 0.161053345 -0.0114929061 ... -0.15778999 -0.06647484 -0.21402061]\n",
      "   [0.239133656 0.213489398 -0.0584455281 ... -0.115523241 -0.061803218 -0.0884298459]\n",
      "   ...\n",
      "   [0.229971752 0.117971972 -0.105716 ... 0.123123668 -0.0872837156 0.20953548]\n",
      "   [0.111742124 0.0517654195 -0.184459329 ... 0.0807715356 -0.120399147 0.241245747]\n",
      "   [-0.0305979513 0.0808221474 0.100008734 ... -0.152856991 -0.0539185554 0.0709347203]]\n",
      "\n",
      "  ...\n",
      "\n",
      "  [[0.0502788797 0.126339331 0.151134461 ... -0.272165 0.0251066927 -0.262676179]\n",
      "   [0.171765685 0.305270255 0.131893963 ... -0.208348587 -0.120615602 -0.147133306]\n",
      "   [0.262952149 0.354536265 0.158614904 ... -0.228661641 -0.231218353 -0.0615748093]\n",
      "   ...\n",
      "   [0.1729642 0.275740206 0.116432585 ... -0.0964443311 -0.202991918 0.0666351765]\n",
      "   [0.155890778 0.208402753 0.043824818 ... 0.0263837613 -0.198982388 0.181966826]\n",
      "   [-0.0857412145 0.332812846 0.27780205 ... -0.112222977 -0.0986893 0.0714590624]]\n",
      "\n",
      "  [[0.0965158939 0.197158962 0.12541914 ... -0.186972961 0.00684844563 -0.17180419]\n",
      "   [0.227659687 0.349398643 0.14072673 ... -0.166989788 -0.139519647 -0.0551552847]\n",
      "   [0.239572644 0.388564885 0.177834019 ... -0.246120587 -0.236642823 -0.00760952197]\n",
      "   ...\n",
      "   [0.118847899 0.345615834 0.154714242 ... -0.152286157 -0.10258051 0.104122251]\n",
      "   [0.126773357 0.27986 0.0968746766 ... -0.0459644236 -0.0550184771 0.18387495]\n",
      "   [-0.0384988822 0.335414559 0.205466181 ... -0.115906283 -0.0682150126 0.0848130956]]\n",
      "\n",
      "  [[0.12644802 0.247533828 0.110232681 ... 0.0379277244 -0.0415291227 -0.0163490251]\n",
      "   [0.30876267 0.401425719 0.103984237 ... -0.030806398 -0.0762369335 0.0891113803]\n",
      "   [0.315234214 0.403272599 0.131647527 ... -0.0264880043 -0.132814854 0.160283968]\n",
      "   ...\n",
      "   [0.323973209 0.377508104 0.0945736691 ... 0.126973867 -0.0591507368 0.365982652]\n",
      "   [0.325030625 0.31838116 0.0179377757 ... 0.0946108848 -0.0142842373 0.321895212]\n",
      "   [0.0930094272 0.285252452 0.0691945776 ... 0.0234408788 0.0931440219 0.188839883]]]]\n",
      "average speed: nan\n"
     ]
    },
    {
     "data": {
      "text/plain": [
       "<tensorflow.python.data.ops.iterator_ops.OwnedIterator at 0x7effd325eeb0>"
      ]
     },
     "execution_count": 57,
     "metadata": {},
     "output_type": "execute_result"
    }
   ],
   "source": [
    "testingdata_iterator = iter(testing_images)\n",
    "runnetwork(testingdata_iterator, int(test_batches), keypoints, camera_matrix, no_objects + 1)"
   ]
  }
 ],
 "metadata": {
  "kernelspec": {
   "display_name": "Python 3 (ipykernel)",
   "language": "python",
   "name": "python3"
  },
  "language_info": {
   "codemirror_mode": {
    "name": "ipython",
    "version": 3
   },
   "file_extension": ".py",
   "mimetype": "text/x-python",
   "name": "python",
   "nbconvert_exporter": "python",
   "pygments_lexer": "ipython3",
   "version": "3.8.10"
  }
 },
 "nbformat": 4,
 "nbformat_minor": 5
}
