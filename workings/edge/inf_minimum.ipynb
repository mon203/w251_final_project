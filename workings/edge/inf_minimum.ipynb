{
 "cells": [
  {
   "cell_type": "markdown",
   "id": "7a2c2b53",
   "metadata": {},
   "source": [
    "### Inference Test"
   ]
  },
  {
   "cell_type": "code",
   "execution_count": 1,
   "id": "74121f44",
   "metadata": {},
   "outputs": [
    {
     "name": "stderr",
     "output_type": "stream",
     "text": [
      "/usr/local/lib/python3.8/dist-packages/imgaug/imgaug.py:184: DeprecationWarning: Function `ContrastNormalization()` is deprecated. Use `imgaug.contrast.LinearContrast` instead.\n",
      "  warn_deprecated(msg, stacklevel=3)\n",
      "/usr/local/lib/python3.8/dist-packages/imgaug/imgaug.py:184: DeprecationWarning: Function `FrequencyNoiseAlpha()` is deprecated. Use `BlendAlphaFrequencyNoise` instead. FrequencyNoiseAlpha is deprecated. Use BlendAlphaFrequencyNoise instead. The order of parameters is the same. Parameter 'first' was renamed to 'foreground'. Parameter 'second' was renamed to 'background'.\n",
      "  warn_deprecated(msg, stacklevel=3)\n",
      "2023-03-31 13:10:40.260370: I tensorflow/core/platform/cpu_feature_guard.cc:194] This TensorFlow binary is optimized with oneAPI Deep Neural Network Library (oneDNN) to use the following CPU instructions in performance-critical operations:  SSE3 SSE4.1 SSE4.2 AVX\n",
      "To enable them in other operations, rebuild TensorFlow with the appropriate compiler flags.\n",
      "2023-03-31 13:10:40.363322: I tensorflow/stream_executor/cuda/cuda_gpu_executor.cc:991] successful NUMA node read from SysFS had negative value (-1), but there must be at least one NUMA node, so returning NUMA node zero\n",
      "2023-03-31 13:10:40.399250: I tensorflow/stream_executor/cuda/cuda_gpu_executor.cc:991] successful NUMA node read from SysFS had negative value (-1), but there must be at least one NUMA node, so returning NUMA node zero\n",
      "2023-03-31 13:10:40.400980: I tensorflow/stream_executor/cuda/cuda_gpu_executor.cc:991] successful NUMA node read from SysFS had negative value (-1), but there must be at least one NUMA node, so returning NUMA node zero\n",
      "2023-03-31 13:10:40.765701: I tensorflow/stream_executor/cuda/cuda_gpu_executor.cc:991] successful NUMA node read from SysFS had negative value (-1), but there must be at least one NUMA node, so returning NUMA node zero\n",
      "2023-03-31 13:10:40.766694: I tensorflow/stream_executor/cuda/cuda_gpu_executor.cc:991] successful NUMA node read from SysFS had negative value (-1), but there must be at least one NUMA node, so returning NUMA node zero\n",
      "2023-03-31 13:10:40.767478: I tensorflow/stream_executor/cuda/cuda_gpu_executor.cc:991] successful NUMA node read from SysFS had negative value (-1), but there must be at least one NUMA node, so returning NUMA node zero\n",
      "2023-03-31 13:10:40.768153: I tensorflow/core/common_runtime/gpu/gpu_device.cc:1532] Created device /job:localhost/replica:0/task:0/device:GPU:0 with 20397 MB memory:  -> device: 0, name: NVIDIA A10G, pci bus id: 0000:00:1e.0, compute capability: 8.6\n"
     ]
    }
   ],
   "source": [
    "from __future__ import print_function\n",
    "\n",
    "import os\n",
    "import sys\n",
    "\n",
    "import numpy as np\n",
    "import tensorflow as tf\n",
    "\n",
    "sys.path.extend([\".\", \"..\"])  # adds the folder from which you call the script\n",
    "os.environ[\"CASAPOSE_INFERENCE\"] = \"True\"\n",
    "\n",
    "from casapose.data_handler.image_only_dataset import ImageOnlyDataset\n",
    "from casapose.data_handler.vectorfield_dataset import VectorfieldDataset\n",
    "from casapose.pose_estimation.pose_evaluation import poses_pnp\n",
    "from casapose.pose_estimation.voting_layers_2d import CoordLSVotingWeighted\n",
    "from casapose.pose_models.tfkeras import Classifiers\n",
    "from casapose.utils.config_parser import parse_config\n",
    "\n",
    "config = tf.compat.v1.ConfigProto()\n",
    "config.gpu_options.allow_growth = True\n",
    "session = tf.compat.v1.InteractiveSession(config=config)"
   ]
  },
  {
   "cell_type": "code",
   "execution_count": 2,
   "id": "afde1da5",
   "metadata": {},
   "outputs": [],
   "source": [
    "#opt = parse_config()\n",
    "#parse_config()"
   ]
  },
  {
   "cell_type": "code",
   "execution_count": 3,
   "id": "acb504b7",
   "metadata": {},
   "outputs": [],
   "source": [
    "class opt:\n",
    "    modelname = 'casapose_c_gcu5'\n",
    "    estimate_confidence = 1\n",
    "    estimate_coords = 1\n",
    "    confidence_regularization = 1\n",
    "    object = 'obj_000001,obj_000005,obj_000006,obj_000008,obj_000009,obj_000010,obj_000011,obj_000016'\n",
    "\n",
    "    no_points = 9\n",
    "    save_debug_batch = 0\n",
    "\n",
    "    imagesize = (448, 448)\n",
    "    imagesize_test = (480, 640)\n",
    "    crop_factor = 0.933333333\n",
    "    pretrained = 1\n",
    "    manualseed = 1237\n",
    "\n",
    "    # losses\n",
    "    mask_loss_weight = 1.0\n",
    "    vertex_loss_weight = 0.5\n",
    "    proxy_loss_weight = 0.015\n",
    "    keypoint_loss_weight = 0.007\n",
    "    filter_vertex_with_segmentation = 1\n",
    "    filter_high_proxy_errors = 0\n",
    "    use_bpnp_reprojection_loss = 0\n",
    "    max_keypoint_pixel_error = 12.5\n",
    "\n",
    "    # learning rate\n",
    "    lr = 0.001\n",
    "    lr_decay = 0.5\n",
    "    lr_epochs_steps = 50,75,90\n",
    "\n",
    "    # general\n",
    "    gpuids = 0,1\n",
    "    loginterval = 10\n",
    "    epochs = 100\n",
    "    batchsize = 4\n",
    "    saveinterval = 5\n",
    "    validationinterval = 1\n",
    "\n",
    "    # data preprocessing\n",
    "    workers = 0\n",
    "    prefetch = 10\n",
    "\n",
    "    # augmentation\n",
    "    translation = 0\n",
    "    rotation = 0\n",
    "    noise = 0.0001\n",
    "    brightness = 0.001\n",
    "    contrast = 0.001\n",
    "    saturation = 0.001\n",
    "    hue = 0.001\n",
    "    use_imgaug = 1\n",
    "\n",
    "    # test\n",
    "    min_object_size_test = 200\n",
    "    write_poses = 0\n",
    "    save_eval_batches = 0\n",
    "\n",
    "    # output\n",
    "    net = 'training_checkpoints'\n",
    "    outf = 'train_casapose_8_16_objects'\n",
    "\n",
    "    # config\n",
    "    train_vectors_with_ground_truth = 1\n",
    "    load_h5_weights = 0\n",
    "    copy_weights_from_backup_network = 0\n",
    "    copy_weights_add_confidence_maps = 0\n",
    "    objects_in_input_network = 8\n",
    "    objects_to_copy = 1\n",
    "    objects_to_copy_list = 'config/objects_to_copy.csv'\n",
    "    \n",
    "    confidence_filter_estimates = 1\n",
    "    confidence_choose_second = 0\n",
    "    train_vectors_with_ground_truth = 0\n",
    "    datatest_wxyz_quaterion = 0\n",
    "    filter_test_with_gt = 0\n",
    "    \n",
    "    evalf = 'output'\n",
    "    #datatest = 'import_data/test/test'\n",
    "    #datameshes = 'import_data/test/models'\n",
    "    datatest = '/workspace/CASAPose/import_data/test/test'\n",
    "    datameshes = '/workspace/CASAPose/import_data/test/models'\n",
    "    data = ''\n",
    "    datatest_path_filter = 'None'\n",
    "    color_dataset = 1\n",
    "    train_validation_split = 0.9\n",
    "    backbonename = 'resnet18'\n",
    "    load_h5_weights = 1\n",
    "    load_h5_filename = '../../../data/pretrained_models/result_w'"
   ]
  },
  {
   "cell_type": "code",
   "execution_count": 4,
   "id": "3e449d41",
   "metadata": {},
   "outputs": [],
   "source": [
    "if not os.path.exists(opt.evalf):\n",
    "    os.makedirs(opt.evalf)"
   ]
  },
  {
   "cell_type": "code",
   "execution_count": 5,
   "id": "d585e025",
   "metadata": {},
   "outputs": [],
   "source": [
    "checkpoint_path = opt.outf + \"/\" + opt.net\n",
    "\n",
    "frozen_path = opt.outf + \"/frozen_model\"\n",
    "img_out_path = opt.outf + \"/control_output\""
   ]
  },
  {
   "cell_type": "code",
   "execution_count": 6,
   "id": "804bc2e6",
   "metadata": {},
   "outputs": [],
   "source": [
    "def create_dir(path):\n",
    "    try:\n",
    "        os.makedirs(path)\n",
    "    except OSError:\n",
    "        pass"
   ]
  },
  {
   "cell_type": "code",
   "execution_count": 7,
   "id": "6e4a95cc",
   "metadata": {},
   "outputs": [],
   "source": [
    "create_dir(img_out_path)"
   ]
  },
  {
   "cell_type": "code",
   "execution_count": 8,
   "id": "007bf910",
   "metadata": {},
   "outputs": [],
   "source": [
    "# save the hyper parameters passed\n",
    "with open(opt.evalf + \"/header_eval.txt\", \"w\") as file:\n",
    "    file.write(str(opt))"
   ]
  },
  {
   "cell_type": "code",
   "execution_count": 9,
   "id": "f2b298bc",
   "metadata": {},
   "outputs": [],
   "source": [
    "# set the manual seed.\n",
    "np.random.seed(opt.manualseed)\n",
    "tf.random.set_seed(opt.manualseed)"
   ]
  },
  {
   "cell_type": "code",
   "execution_count": 10,
   "id": "e45f5af2",
   "metadata": {},
   "outputs": [
    {
     "name": "stdout",
     "output_type": "stream",
     "text": [
      "['/gpu:0']\n"
     ]
    }
   ],
   "source": [
    "test_dataset = None\n",
    "\n",
    "device_ids = []\n",
    "if len(opt.gpuids) == 1 and opt.gpuids[0] < 0:\n",
    "    device_ids.append(\"/cpu:0\")\n",
    "else:\n",
    "    device_ids.append(\"/gpu:{}\".format(opt.gpuids[0]))\n",
    "print(device_ids)"
   ]
  },
  {
   "cell_type": "code",
   "execution_count": 11,
   "id": "445991e6",
   "metadata": {},
   "outputs": [],
   "source": [
    "objectsofinterest = [x.strip() for x in opt.object.split(\",\")]\n",
    "no_objects = len(objectsofinterest)\n",
    "separated_vectorfields = opt.modelname == \"pvnet\""
   ]
  },
  {
   "cell_type": "code",
   "execution_count": 12,
   "id": "31cd7b52",
   "metadata": {},
   "outputs": [
    {
     "data": {
      "text/plain": [
       "['obj_000001',\n",
       " 'obj_000005',\n",
       " 'obj_000006',\n",
       " 'obj_000008',\n",
       " 'obj_000009',\n",
       " 'obj_000010',\n",
       " 'obj_000011',\n",
       " 'obj_000016']"
      ]
     },
     "execution_count": 12,
     "metadata": {},
     "output_type": "execute_result"
    }
   ],
   "source": [
    "objectsofinterest"
   ]
  },
  {
   "cell_type": "code",
   "execution_count": 13,
   "id": "99645e64",
   "metadata": {},
   "outputs": [],
   "source": [
    "testingdata = None\n",
    "normal_imgs = [0.5, 0.5]\n",
    "\n",
    "use_split = False\n",
    "if opt.data == opt.datatest:\n",
    "    print(\"split datasets with ratio {}\".format(opt.train_validation_split))\n",
    "    use_split = True\n",
    "\n",
    "test_batches = 0"
   ]
  },
  {
   "cell_type": "code",
   "execution_count": 14,
   "id": "c6a06035",
   "metadata": {},
   "outputs": [
    {
     "name": "stderr",
     "output_type": "stream",
     "text": [
      "2023-03-31 13:11:13.759056: I tensorflow/stream_executor/cuda/cuda_gpu_executor.cc:991] successful NUMA node read from SysFS had negative value (-1), but there must be at least one NUMA node, so returning NUMA node zero\n",
      "2023-03-31 13:11:13.759976: I tensorflow/stream_executor/cuda/cuda_gpu_executor.cc:991] successful NUMA node read from SysFS had negative value (-1), but there must be at least one NUMA node, so returning NUMA node zero\n",
      "2023-03-31 13:11:13.760712: I tensorflow/stream_executor/cuda/cuda_gpu_executor.cc:991] successful NUMA node read from SysFS had negative value (-1), but there must be at least one NUMA node, so returning NUMA node zero\n",
      "2023-03-31 13:11:13.761658: I tensorflow/stream_executor/cuda/cuda_gpu_executor.cc:991] successful NUMA node read from SysFS had negative value (-1), but there must be at least one NUMA node, so returning NUMA node zero\n",
      "2023-03-31 13:11:13.762380: I tensorflow/stream_executor/cuda/cuda_gpu_executor.cc:991] successful NUMA node read from SysFS had negative value (-1), but there must be at least one NUMA node, so returning NUMA node zero\n",
      "2023-03-31 13:11:13.763092: I tensorflow/stream_executor/cuda/cuda_gpu_executor.cc:991] successful NUMA node read from SysFS had negative value (-1), but there must be at least one NUMA node, so returning NUMA node zero\n",
      "2023-03-31 13:11:13.763840: I tensorflow/stream_executor/cuda/cuda_gpu_executor.cc:991] successful NUMA node read from SysFS had negative value (-1), but there must be at least one NUMA node, so returning NUMA node zero\n",
      "2023-03-31 13:11:13.764542: I tensorflow/stream_executor/cuda/cuda_gpu_executor.cc:991] successful NUMA node read from SysFS had negative value (-1), but there must be at least one NUMA node, so returning NUMA node zero\n",
      "2023-03-31 13:11:13.765167: I tensorflow/core/common_runtime/gpu/gpu_device.cc:1532] Created device /job:localhost/replica:0/task:0/device:GPU:0 with 20397 MB memory:  -> device: 0, name: NVIDIA A10G, pci bus id: 0000:00:1e.0, compute capability: 8.6\n"
     ]
    }
   ],
   "source": [
    "test_dataset = ImageOnlyDataset(root=opt.datatest)\n",
    "testing_images, _ = test_dataset.generate_dataset(1)"
   ]
  },
  {
   "cell_type": "code",
   "execution_count": 15,
   "id": "8282bdb2",
   "metadata": {},
   "outputs": [
    {
     "data": {
      "text/plain": [
       "['/workspace/CASAPose/import_data/test/test/000001/000001.jpg',\n",
       " '/workspace/CASAPose/import_data/test/test/000001/000002.jpg',\n",
       " '/workspace/CASAPose/import_data/test/test/000001/000003.jpg',\n",
       " '/workspace/CASAPose/import_data/test/test/000001/000004.jpg',\n",
       " '/workspace/CASAPose/import_data/test/test/000001/000005.jpg']"
      ]
     },
     "execution_count": 15,
     "metadata": {},
     "output_type": "execute_result"
    }
   ],
   "source": [
    "ImageOnlyDataset(root=opt.datatest).imgs"
   ]
  },
  {
   "cell_type": "code",
   "execution_count": 16,
   "id": "c75f79ec",
   "metadata": {},
   "outputs": [
    {
     "data": {
      "text/plain": [
       "5"
      ]
     },
     "execution_count": 16,
     "metadata": {},
     "output_type": "execute_result"
    }
   ],
   "source": [
    "len(ImageOnlyDataset(root=opt.datatest))"
   ]
  },
  {
   "cell_type": "code",
   "execution_count": 17,
   "id": "924c6ba9",
   "metadata": {},
   "outputs": [
    {
     "data": {
      "text/plain": [
       "5"
      ]
     },
     "execution_count": 17,
     "metadata": {},
     "output_type": "execute_result"
    }
   ],
   "source": [
    "len(test_dataset)"
   ]
  },
  {
   "cell_type": "code",
   "execution_count": 18,
   "id": "068c2c67",
   "metadata": {},
   "outputs": [
    {
     "data": {
      "text/plain": [
       "5"
      ]
     },
     "execution_count": 18,
     "metadata": {},
     "output_type": "execute_result"
    }
   ],
   "source": [
    "len(testing_images)"
   ]
  },
  {
   "cell_type": "code",
   "execution_count": 19,
   "id": "98c1ccd7",
   "metadata": {},
   "outputs": [
    {
     "name": "stdout",
     "output_type": "stream",
     "text": [
      "/workspace/CASAPose/import_data/test/models/obj_000001/obj_000001.ply\n",
      "/workspace/CASAPose/import_data/test/models/obj_000002/obj_000002.ply\n",
      "/workspace/CASAPose/import_data/test/models/obj_000003/obj_000003.ply\n",
      "/workspace/CASAPose/import_data/test/models/obj_000004/obj_000004.ply\n",
      "/workspace/CASAPose/import_data/test/models/obj_000005/obj_000005.ply\n",
      "/workspace/CASAPose/import_data/test/models/obj_000006/obj_000006.ply\n",
      "/workspace/CASAPose/import_data/test/models/obj_000007/obj_000007.ply\n",
      "/workspace/CASAPose/import_data/test/models/obj_000008/obj_000008.ply\n",
      "/workspace/CASAPose/import_data/test/models/obj_000009/obj_000009.ply\n",
      "/workspace/CASAPose/import_data/test/models/obj_000010/obj_000010.ply\n",
      "/workspace/CASAPose/import_data/test/models/obj_000011/obj_000011.ply\n",
      "/workspace/CASAPose/import_data/test/models/obj_000012/obj_000012.ply\n",
      "/workspace/CASAPose/import_data/test/models/obj_000013/obj_000013.ply\n",
      "/workspace/CASAPose/import_data/test/models/obj_000014/obj_000014.ply\n",
      "/workspace/CASAPose/import_data/test/models/obj_000015/obj_000015.ply\n",
      "/workspace/CASAPose/import_data/test/models/obj_000016/obj_000016.ply\n"
     ]
    }
   ],
   "source": [
    "test_dataset = VectorfieldDataset(\n",
    "    root=opt.datatest,\n",
    "    path_meshes=opt.datameshes,\n",
    "    path_filter_root=opt.datatest_path_filter,\n",
    "    color_input=opt.color_dataset,\n",
    "    no_points=opt.no_points,\n",
    "    objectsofinterest=objectsofinterest,\n",
    "    noise=0.00001,\n",
    "    data_size=None,\n",
    "    save=opt.save_debug_batch,\n",
    "    normal=normal_imgs,\n",
    "    contrast=0.00001,\n",
    "    brightness=0.00001,\n",
    "    hue=0.00001,\n",
    "    saturation=0.00001,\n",
    "    random_translation=(0, 0),\n",
    "    random_rotation=0,\n",
    "    random_crop=False,\n",
    "    use_validation_split=use_split,\n",
    "    use_train_split=False,\n",
    "    train_validation_split=opt.train_validation_split,\n",
    "    output_folder=opt.evalf,\n",
    "    visibility_filter=False,\n",
    "    separated_vectorfields=(opt.modelname == \"pvnet\"),\n",
    ")"
   ]
  },
  {
   "cell_type": "code",
   "execution_count": 20,
   "id": "90bad2f6",
   "metadata": {},
   "outputs": [
    {
     "name": "stdout",
     "output_type": "stream",
     "text": [
      "/workspace/CASAPose/import_data/test/models/obj_000001/obj_000001.ply\n",
      "/workspace/CASAPose/import_data/test/models/obj_000002/obj_000002.ply\n",
      "/workspace/CASAPose/import_data/test/models/obj_000003/obj_000003.ply\n",
      "/workspace/CASAPose/import_data/test/models/obj_000004/obj_000004.ply\n",
      "/workspace/CASAPose/import_data/test/models/obj_000005/obj_000005.ply\n",
      "/workspace/CASAPose/import_data/test/models/obj_000006/obj_000006.ply\n",
      "/workspace/CASAPose/import_data/test/models/obj_000007/obj_000007.ply\n",
      "/workspace/CASAPose/import_data/test/models/obj_000008/obj_000008.ply\n",
      "/workspace/CASAPose/import_data/test/models/obj_000009/obj_000009.ply\n",
      "/workspace/CASAPose/import_data/test/models/obj_000010/obj_000010.ply\n",
      "/workspace/CASAPose/import_data/test/models/obj_000011/obj_000011.ply\n",
      "/workspace/CASAPose/import_data/test/models/obj_000012/obj_000012.ply\n",
      "/workspace/CASAPose/import_data/test/models/obj_000013/obj_000013.ply\n",
      "/workspace/CASAPose/import_data/test/models/obj_000014/obj_000014.ply\n",
      "/workspace/CASAPose/import_data/test/models/obj_000015/obj_000015.ply\n",
      "/workspace/CASAPose/import_data/test/models/obj_000016/obj_000016.ply\n",
      "/workspace/CASAPose/import_data/test/test/000001\n"
     ]
    }
   ],
   "source": [
    "test_dataset = VectorfieldDataset(\n",
    "    root=\"/workspace/CASAPose/import_data/test/test\", # Hardcoded param\n",
    "    path_meshes=\"/workspace/CASAPose/import_data/test/models\", # Hardcoded param\n",
    "    path_filter_root=None, # Hardcoded param\n",
    "    color_input=True, # Hardcoded param\n",
    "    no_points=9, # Taken from config_8.ini\n",
    "    objectsofinterest=objectsofinterest,\n",
    "    noise=0.00001,\n",
    "    data_size=None,\n",
    "    save=False, # Hardcoded param\n",
    "    normal=normal_imgs,\n",
    "    contrast=0.00001,\n",
    "    brightness=0.00001,\n",
    "    hue=0.00001,\n",
    "    saturation=0.00001,\n",
    "    random_translation=(0, 0),\n",
    "    random_rotation=0,\n",
    "    random_crop=False,\n",
    "    use_validation_split=use_split,\n",
    "    use_train_split=False,\n",
    "    train_validation_split=None,\n",
    "    output_folder=None,\n",
    "    visibility_filter=False,\n",
    "    separated_vectorfields=(opt.modelname == \"pvnet\"),\n",
    ")"
   ]
  },
  {
   "cell_type": "code",
   "execution_count": 21,
   "id": "0e3e20b2",
   "metadata": {},
   "outputs": [
    {
     "data": {
      "text/plain": [
       "8"
      ]
     },
     "execution_count": 21,
     "metadata": {},
     "output_type": "execute_result"
    }
   ],
   "source": [
    "no_objects"
   ]
  },
  {
   "cell_type": "code",
   "execution_count": 22,
   "id": "7fec2ec6",
   "metadata": {},
   "outputs": [
    {
     "data": {
      "text/plain": [
       "5"
      ]
     },
     "execution_count": 22,
     "metadata": {},
     "output_type": "execute_result"
    }
   ],
   "source": [
    "len(test_dataset)"
   ]
  },
  {
   "cell_type": "code",
   "execution_count": 23,
   "id": "38aad2a9",
   "metadata": {},
   "outputs": [
    {
     "name": "stdout",
     "output_type": "stream",
     "text": [
      "5\n",
      "5\n",
      "WARNING:tensorflow:From /usr/local/lib/python3.8/dist-packages/tensorflow/python/util/deprecation.py:629: calling map_fn_v2 (from tensorflow.python.ops.map_fn) with dtype is deprecated and will be removed in a future version.\n",
      "Instructions for updating:\n",
      "Use fn_output_signature instead\n"
     ]
    }
   ],
   "source": [
    "print(len(test_dataset))\n",
    "print(len(testing_images))\n",
    "testingdata, test_batches = test_dataset.generate_dataset(\n",
    "    1, 1, 0, opt.imagesize_test, 1.0, 1, no_objects, shuffle=False\n",
    ")\n",
    "\n",
    "#'epochs', 'prefetch', 'imagesize', 'cropratio', 'worker', and 'no_objects'"
   ]
  },
  {
   "cell_type": "code",
   "execution_count": 24,
   "id": "8f1479c0",
   "metadata": {},
   "outputs": [
    {
     "name": "stdout",
     "output_type": "stream",
     "text": [
      "testing data: 5.0 batches\n"
     ]
    }
   ],
   "source": [
    "mesh_vertex_array, mesh_vertex_count = test_dataset.generate_object_vertex_array()\n",
    "\n",
    "print(\"testing data: {} batches\".format(test_batches))"
   ]
  },
  {
   "cell_type": "code",
   "execution_count": 25,
   "id": "f0305f3b",
   "metadata": {},
   "outputs": [],
   "source": [
    "input_segmentation_shape = None\n",
    "if opt.train_vectors_with_ground_truth is True:\n",
    "    input_segmentation_shape = (\n",
    "        opt.imagesize_test[0],\n",
    "        opt.imagesize_test[1],\n",
    "        1 + no_objects,\n",
    "    )"
   ]
  },
  {
   "cell_type": "code",
   "execution_count": 26,
   "id": "29221323",
   "metadata": {},
   "outputs": [],
   "source": [
    "height = opt.imagesize_test[0]\n",
    "width = opt.imagesize_test[1]"
   ]
  },
  {
   "cell_type": "code",
   "execution_count": 27,
   "id": "c867fd02",
   "metadata": {},
   "outputs": [
    {
     "data": {
      "text/plain": [
       "640"
      ]
     },
     "execution_count": 27,
     "metadata": {},
     "output_type": "execute_result"
    }
   ],
   "source": [
    "width"
   ]
  },
  {
   "cell_type": "code",
   "execution_count": 28,
   "id": "323ae42e",
   "metadata": {},
   "outputs": [],
   "source": [
    "CASAPose = Classifiers.get(opt.modelname)"
   ]
  },
  {
   "cell_type": "code",
   "execution_count": 29,
   "id": "4e96fc2d",
   "metadata": {},
   "outputs": [],
   "source": [
    "ver_dim = opt.no_points * 2"
   ]
  },
  {
   "cell_type": "code",
   "execution_count": 30,
   "id": "c2470908",
   "metadata": {},
   "outputs": [
    {
     "data": {
      "text/plain": [
       "18"
      ]
     },
     "execution_count": 30,
     "metadata": {},
     "output_type": "execute_result"
    }
   ],
   "source": [
    "ver_dim"
   ]
  },
  {
   "cell_type": "code",
   "execution_count": 31,
   "id": "49f83814",
   "metadata": {},
   "outputs": [],
   "source": [
    "if opt.modelname == \"pvnet\":\n",
    "    ver_dim = ver_dim * no_objects\n",
    "\n",
    "if opt.estimate_confidence:\n",
    "    assert separated_vectorfields is not None, \"confidence not compaitble with this model\"\n",
    "    ver_dim += opt.no_points"
   ]
  },
  {
   "cell_type": "code",
   "execution_count": 32,
   "id": "ee8d7725",
   "metadata": {},
   "outputs": [
    {
     "name": "stdout",
     "output_type": "stream",
     "text": [
      "[<KerasTensor: shape=(None, 240, 320, 64) dtype=float32 (created by layer 'relu0')>, <KerasTensor: shape=(None, 120, 160, 64) dtype=float32 (created by layer 'stage2_unit1_relu1')>, <KerasTensor: shape=(None, 60, 80, 128) dtype=float32 (created by layer 'stage3_unit1_relu1')>, <KerasTensor: shape=(None, 60, 80, 256) dtype=float32 (created by layer 'stage4_unit1_relu1')>, <KerasTensor: shape=(None, 60, 80, 512) dtype=float32 (created by layer 'relu1')>]\n"
     ]
    }
   ],
   "source": [
    "net = CASAPose(\n",
    "    ver_dim=ver_dim,\n",
    "    seg_dim=1 + no_objects,\n",
    "    input_shape=(height, width, 3),\n",
    "    input_segmentation_shape=input_segmentation_shape,\n",
    "    weights=\"imagenet\",\n",
    "    base_model=opt.backbonename,\n",
    ")"
   ]
  },
  {
   "cell_type": "code",
   "execution_count": 33,
   "id": "7a4e1bbc",
   "metadata": {},
   "outputs": [],
   "source": [
    "checkpoint_prefix = os.path.join(checkpoint_path, \"ckpt\")\n",
    "checkpoint = tf.train.Checkpoint(network=net)  # , optimizer=optimizer)"
   ]
  },
  {
   "cell_type": "code",
   "execution_count": 34,
   "id": "fdba2fa3",
   "metadata": {},
   "outputs": [],
   "source": [
    "if opt.load_h5_weights is True:\n",
    "    net.load_weights(frozen_path + \"/\" + opt.load_h5_filename + \".h5\", by_name=True, skip_mismatch=True)\n",
    "\n",
    "elif opt.net != \"\":\n",
    "    checkpoint.restore(tf.train.latest_checkpoint(checkpoint_path)).expect_partial()\n",
    "\n",
    "for layer in net.layers:\n",
    "    layer.trainable = False"
   ]
  },
  {
   "cell_type": "code",
   "execution_count": 35,
   "id": "f790de3d",
   "metadata": {},
   "outputs": [
    {
     "name": "stdout",
     "output_type": "stream",
     "text": [
      "Model: \"model_1\"\n",
      "__________________________________________________________________________________________________\n",
      " Layer (type)                   Output Shape         Param #     Connected to                     \n",
      "==================================================================================================\n",
      " data (InputLayer)              [(None, 480, 640, 3  0           []                               \n",
      "                                )]                                                                \n",
      "                                                                                                  \n",
      " model (Functional)             [(None, 240, 320, 6  11186889    ['data[0][0]']                   \n",
      "                                4),                                                               \n",
      "                                 (None, 120, 160, 6                                               \n",
      "                                4),                                                               \n",
      "                                 (None, 60, 80, 128                                               \n",
      "                                ),                                                                \n",
      "                                 (None, 60, 80, 256                                               \n",
      "                                ),                                                                \n",
      "                                 (None, 60, 80, 512                                               \n",
      "                                )]                                                                \n",
      "                                                                                                  \n",
      " zero_padding2d_18 (ZeroPadding  (None, 62, 82, 512)  0          ['model[0][4]']                  \n",
      " 2D)                                                                                              \n",
      "                                                                                                  \n",
      " pv_block_1_conv2d (Conv2D)     (None, 60, 80, 256)  1179648     ['zero_padding2d_18[0][0]']      \n",
      "                                                                                                  \n",
      " pv_block_1_bn (SyncBatchNormal  (None, 60, 80, 256)  1024       ['pv_block_1_conv2d[0][0]']      \n",
      " ization)                                                                                         \n",
      "                                                                                                  \n",
      " pv_block_1_relu (Activation)   (None, 60, 80, 256)  0           ['pv_block_1_bn[0][0]']          \n",
      "                                                                                                  \n",
      " concatenate (Concatenate)      (None, 60, 80, 384)  0           ['pv_block_1_relu[0][0]',        \n",
      "                                                                  'model[0][2]']                  \n",
      "                                                                                                  \n",
      " zero_padding2d_19 (ZeroPadding  (None, 62, 82, 384)  0          ['concatenate[0][0]']            \n",
      " 2D)                                                                                              \n",
      "                                                                                                  \n",
      " pv_block_2_conv2d (Conv2D)     (None, 60, 80, 128)  442368      ['zero_padding2d_19[0][0]']      \n",
      "                                                                                                  \n",
      " pv_block_2_bn (SyncBatchNormal  (None, 60, 80, 128)  512        ['pv_block_2_conv2d[0][0]']      \n",
      " ization)                                                                                         \n",
      "                                                                                                  \n",
      " tf.math.multiply (TFOpLambda)  (None, 60, 80, 128)  0           ['pv_block_2_bn[0][0]']          \n",
      "                                                                                                  \n",
      " pv_block_2_relu1 (Activation)  (None, 60, 80, 128)  0           ['pv_block_2_bn[0][0]']          \n",
      "                                                                                                  \n",
      " pv_block_2_relu2 (Activation)  (None, 60, 80, 128)  0           ['tf.math.multiply[0][0]']       \n",
      "                                                                                                  \n",
      " subtract (Subtract)            (None, 60, 80, 128)  0           ['pv_block_2_relu1[0][0]',       \n",
      "                                                                  'pv_block_2_relu2[0][0]']       \n",
      "                                                                                                  \n",
      " pv_block_2_upsampling (UpSampl  (None, 120, 160, 12  0          ['subtract[0][0]']               \n",
      " ing2D)                         8)                                                                \n",
      "                                                                                                  \n",
      " concatenate_1 (Concatenate)    (None, 120, 160, 19  0           ['pv_block_2_upsampling[0][0]',  \n",
      "                                2)                                'model[0][1]']                  \n",
      "                                                                                                  \n",
      " zero_padding2d_20 (ZeroPadding  (None, 122, 162, 19  0          ['concatenate_1[0][0]']          \n",
      " 2D)                            2)                                                                \n",
      "                                                                                                  \n",
      " pv_block_3_conv2d (Conv2D)     (None, 120, 160, 64  110592      ['zero_padding2d_20[0][0]']      \n",
      "                                )                                                                 \n",
      "                                                                                                  \n",
      " pv_block_3_bn (SyncBatchNormal  (None, 120, 160, 64  256        ['pv_block_3_conv2d[0][0]']      \n",
      " ization)                       )                                                                 \n",
      "                                                                                                  \n",
      " tf.math.multiply_1 (TFOpLambda  (None, 120, 160, 64  0          ['pv_block_3_bn[0][0]']          \n",
      " )                              )                                                                 \n",
      "                                                                                                  \n",
      " pv_block_3_relu1 (Activation)  (None, 120, 160, 64  0           ['pv_block_3_bn[0][0]']          \n",
      "                                )                                                                 \n",
      "                                                                                                  \n",
      " pv_block_3_relu2 (Activation)  (None, 120, 160, 64  0           ['tf.math.multiply_1[0][0]']     \n",
      "                                )                                                                 \n",
      "                                                                                                  \n",
      " subtract_1 (Subtract)          (None, 120, 160, 64  0           ['pv_block_3_relu1[0][0]',       \n",
      "                                )                                 'pv_block_3_relu2[0][0]']       \n",
      "                                                                                                  \n",
      " pv_block_3_upsampling (UpSampl  (None, 240, 320, 64  0          ['subtract_1[0][0]']             \n",
      " ing2D)                         )                                                                 \n",
      "                                                                                                  \n",
      " concatenate_2 (Concatenate)    (None, 240, 320, 12  0           ['pv_block_3_upsampling[0][0]',  \n",
      "                                8)                                'model[0][0]']                  \n",
      "                                                                                                  \n",
      " zero_padding2d_21 (ZeroPadding  (None, 242, 322, 12  0          ['concatenate_2[0][0]']          \n",
      " 2D)                            8)                                                                \n",
      "                                                                                                  \n",
      " pv_block_4_conv2d (Conv2D)     (None, 240, 320, 32  36864       ['zero_padding2d_21[0][0]']      \n",
      "                                )                                                                 \n",
      "                                                                                                  \n",
      " pv_block_4_bn (SyncBatchNormal  (None, 240, 320, 32  128        ['pv_block_4_conv2d[0][0]']      \n",
      " ization)                       )                                                                 \n",
      "                                                                                                  \n",
      " tf.math.multiply_2 (TFOpLambda  (None, 240, 320, 32  0          ['pv_block_4_bn[0][0]']          \n",
      " )                              )                                                                 \n",
      "                                                                                                  \n",
      " pv_block_4_relu1 (Activation)  (None, 240, 320, 32  0           ['pv_block_4_bn[0][0]']          \n",
      "                                )                                                                 \n",
      "                                                                                                  \n",
      " pv_block_4_relu2 (Activation)  (None, 240, 320, 32  0           ['tf.math.multiply_2[0][0]']     \n",
      "                                )                                                                 \n",
      "                                                                                                  \n",
      " subtract_2 (Subtract)          (None, 240, 320, 32  0           ['pv_block_4_relu1[0][0]',       \n",
      "                                )                                 'pv_block_4_relu2[0][0]']       \n",
      "                                                                                                  \n",
      " pv_block_4_upsampling (UpSampl  (None, 480, 640, 32  0          ['subtract_2[0][0]']             \n",
      " ing2D)                         )                                                                 \n",
      "                                                                                                  \n",
      " concatenate_3 (Concatenate)    (None, 480, 640, 35  0           ['pv_block_4_upsampling[0][0]',  \n",
      "                                )                                 'data[0][0]']                   \n",
      "                                                                                                  \n",
      " zero_padding2d_22 (ZeroPadding  (None, 482, 642, 35  0          ['concatenate_3[0][0]']          \n",
      " 2D)                            )                                                                 \n",
      "                                                                                                  \n",
      " pv_block_5_conv2d (Conv2D)     (None, 480, 640, 32  10080       ['zero_padding2d_22[0][0]']      \n",
      "                                )                                                                 \n",
      "                                                                                                  \n",
      " pv_block_5_bn (SyncBatchNormal  (None, 480, 640, 32  128        ['pv_block_5_conv2d[0][0]']      \n",
      " ization)                       )                                                                 \n",
      "                                                                                                  \n",
      " tf.math.multiply_3 (TFOpLambda  (None, 480, 640, 32  0          ['pv_block_5_bn[0][0]']          \n",
      " )                              )                                                                 \n",
      "                                                                                                  \n",
      " pv_block_5_relu1 (Activation)  (None, 480, 640, 32  0           ['pv_block_5_bn[0][0]']          \n",
      "                                )                                                                 \n",
      "                                                                                                  \n",
      " pv_block_5_relu2 (Activation)  (None, 480, 640, 32  0           ['tf.math.multiply_3[0][0]']     \n",
      "                                )                                                                 \n",
      "                                                                                                  \n",
      " subtract_3 (Subtract)          (None, 480, 640, 32  0           ['pv_block_5_relu1[0][0]',       \n",
      "                                )                                 'pv_block_5_relu2[0][0]']       \n",
      "                                                                                                  \n",
      " pv_final_conv_segmentation (Co  (None, 480, 640, 9)  288        ['subtract_3[0][0]']             \n",
      " nv2D)                                                                                            \n",
      "                                                                                                  \n",
      " tf.math.multiply_4 (TFOpLambda  (None, 480, 640, 9)  0          ['pv_final_conv_segmentation[0][0\n",
      " )                                                               ]']                              \n",
      "                                                                                                  \n",
      " activation (Activation)        (None, 480, 640, 9)  0           ['tf.math.multiply_4[0][0]']     \n",
      "                                                                                                  \n",
      " tf.stop_gradient (TFOpLambda)  (None, 480, 640, 9)  0           ['activation[0][0]']             \n",
      "                                                                                                  \n",
      " segmentation_half_size (HalfSi  (None, 240, 320, 9)  0          ['tf.stop_gradient[0][0]']       \n",
      " ze)                                                                                              \n",
      "                                                                                                  \n",
      " segmentation_quater_size (Half  (None, 120, 160, 9)  0          ['segmentation_half_size[0][0]'] \n",
      " Size)                                                                                            \n",
      "                                                                                                  \n",
      " segmentation_eighth_size (Half  (None, 60, 80, 9)   0           ['segmentation_quater_size[0][0]'\n",
      " Size)                                                           ]                                \n",
      "                                                                                                  \n",
      " pv_block_6_prepare_conv2d (Par  (None, 60, 80, 256)  1179648    ['model[0][4]',                  \n",
      " tialConvolution)                                                 'segmentation_eighth_size[0][0]'\n",
      "                                                                 ]                                \n",
      "                                                                                                  \n",
      " pv_block_6_clade (ClassAdaptiv  (None, 60, 80, 256)  5120       ['pv_block_6_prepare_conv2d[0][0]\n",
      " eWeightedNormalization)                                         ',                               \n",
      "                                                                  'segmentation_eighth_size[0][0]'\n",
      "                                                                 ]                                \n",
      "                                                                                                  \n",
      " pv_block_6_relu (Activation)   (None, 60, 80, 256)  0           ['pv_block_6_clade[0][0]']       \n",
      "                                                                                                  \n",
      " concatenate_4 (Concatenate)    (None, 60, 80, 384)  0           ['pv_block_6_relu[0][0]',        \n",
      "                                                                  'model[0][2]']                  \n",
      "                                                                                                  \n",
      " pv_block_7_prepare_conv2d (Par  (None, 60, 80, 128)  442368     ['concatenate_4[0][0]',          \n",
      " tialConvolution)                                                 'segmentation_eighth_size[0][0]'\n",
      "                                                                 ]                                \n",
      "                                                                                                  \n",
      " pv_block_7_clade (ClassAdaptiv  (None, 60, 80, 128)  2560       ['pv_block_7_prepare_conv2d[0][0]\n",
      " eWeightedNormalization)                                         ',                               \n",
      "                                                                  'segmentation_eighth_size[0][0]'\n",
      "                                                                 ]                                \n",
      "                                                                                                  \n",
      " tf.math.multiply_5 (TFOpLambda  (None, 60, 80, 128)  0          ['pv_block_7_clade[0][0]']       \n",
      " )                                                                                                \n",
      "                                                                                                  \n",
      " pv_block_7_relu1 (Activation)  (None, 60, 80, 128)  0           ['pv_block_7_clade[0][0]']       \n",
      "                                                                                                  \n",
      " pv_block_7_relu2 (Activation)  (None, 60, 80, 128)  0           ['tf.math.multiply_5[0][0]']     \n",
      "                                                                                                  \n",
      " subtract_4 (Subtract)          (None, 60, 80, 128)  0           ['pv_block_7_relu1[0][0]',       \n",
      "                                                                  'pv_block_7_relu2[0][0]']       \n",
      "                                                                                                  \n",
      " pv_block_7_guided_upsamling (G  (None, 120, 160, 12  0          ['subtract_4[0][0]',             \n",
      " uidedUpsampling)               8)                                'segmentation_eighth_size[0][0]'\n",
      "                                                                 , 'segmentation_quater_size[0][0]\n",
      "                                                                 ']                               \n",
      "                                                                                                  \n",
      " concatenate_5 (Concatenate)    (None, 120, 160, 19  0           ['pv_block_7_guided_upsamling[0][\n",
      "                                2)                               0]',                             \n",
      "                                                                  'model[0][1]']                  \n",
      "                                                                                                  \n",
      " pv_block_8_prepare_conv2d (Par  (None, 120, 160, 64  110592     ['concatenate_5[0][0]',          \n",
      " tialConvolution)               )                                 'segmentation_quater_size[0][0]'\n",
      "                                                                 ]                                \n",
      "                                                                                                  \n",
      " pv_block_8_clade (ClassAdaptiv  (None, 120, 160, 64  1280       ['pv_block_8_prepare_conv2d[0][0]\n",
      " eWeightedNormalization)        )                                ',                               \n",
      "                                                                  'segmentation_quater_size[0][0]'\n",
      "                                                                 ]                                \n",
      "                                                                                                  \n",
      " tf.math.multiply_6 (TFOpLambda  (None, 120, 160, 64  0          ['pv_block_8_clade[0][0]']       \n",
      " )                              )                                                                 \n",
      "                                                                                                  \n",
      " pv_block_8_relu1 (Activation)  (None, 120, 160, 64  0           ['pv_block_8_clade[0][0]']       \n",
      "                                )                                                                 \n",
      "                                                                                                  \n",
      " pv_block_8_relu2 (Activation)  (None, 120, 160, 64  0           ['tf.math.multiply_6[0][0]']     \n",
      "                                )                                                                 \n",
      "                                                                                                  \n",
      " subtract_5 (Subtract)          (None, 120, 160, 64  0           ['pv_block_8_relu1[0][0]',       \n",
      "                                )                                 'pv_block_8_relu2[0][0]']       \n",
      "                                                                                                  \n",
      " pv_block_8_guided_upsamling (G  (None, 240, 320, 64  0          ['subtract_5[0][0]',             \n",
      " uidedUpsampling)               )                                 'segmentation_quater_size[0][0]'\n",
      "                                                                 , 'segmentation_half_size[0][0]']\n",
      "                                                                                                  \n",
      " concatenate_6 (Concatenate)    (None, 240, 320, 12  0           ['pv_block_8_guided_upsamling[0][\n",
      "                                8)                               0]',                             \n",
      "                                                                  'model[0][0]']                  \n",
      "                                                                                                  \n",
      " pv_block_9_prepare_conv2d (Par  (None, 240, 320, 32  36864      ['concatenate_6[0][0]',          \n",
      " tialConvolution)               )                                 'segmentation_half_size[0][0]'] \n",
      "                                                                                                  \n",
      " pv_block_9_clade (ClassAdaptiv  (None, 240, 320, 32  640        ['pv_block_9_prepare_conv2d[0][0]\n",
      " eWeightedNormalization)        )                                ',                               \n",
      "                                                                  'segmentation_half_size[0][0]'] \n",
      "                                                                                                  \n",
      " tf.math.multiply_7 (TFOpLambda  (None, 240, 320, 32  0          ['pv_block_9_clade[0][0]']       \n",
      " )                              )                                                                 \n",
      "                                                                                                  \n",
      " pv_block_9_relu1 (Activation)  (None, 240, 320, 32  0           ['pv_block_9_clade[0][0]']       \n",
      "                                )                                                                 \n",
      "                                                                                                  \n",
      " pv_block_9_relu2 (Activation)  (None, 240, 320, 32  0           ['tf.math.multiply_7[0][0]']     \n",
      "                                )                                                                 \n",
      "                                                                                                  \n",
      " subtract_6 (Subtract)          (None, 240, 320, 32  0           ['pv_block_9_relu1[0][0]',       \n",
      "                                )                                 'pv_block_9_relu2[0][0]']       \n",
      "                                                                                                  \n",
      " pv_block_9_guided_upsamling (G  (None, 480, 640, 32  0          ['subtract_6[0][0]',             \n",
      " uidedUpsampling)               )                                 'segmentation_half_size[0][0]', \n",
      "                                                                  'tf.stop_gradient[0][0]']       \n",
      "                                                                                                  \n",
      " concatenate_7 (Concatenate)    (None, 480, 640, 35  0           ['pv_block_9_guided_upsamling[0][\n",
      "                                )                                0]',                             \n",
      "                                                                  'data[0][0]']                   \n",
      "                                                                                                  \n",
      " pv_block_10_prepare_conv2d (Pa  (None, 480, 640, 32  10080      ['concatenate_7[0][0]',          \n",
      " rtialConvolution)              )                                 'tf.stop_gradient[0][0]']       \n",
      "                                                                                                  \n",
      " pv_block_10_clade (ClassAdapti  (None, 480, 640, 32  640        ['pv_block_10_prepare_conv2d[0][0\n",
      " veWeightedNormalization)       )                                ]',                              \n",
      "                                                                  'tf.stop_gradient[0][0]']       \n",
      "                                                                                                  \n",
      " tf.math.multiply_8 (TFOpLambda  (None, 480, 640, 32  0          ['pv_block_10_clade[0][0]']      \n",
      " )                              )                                                                 \n",
      "                                                                                                  \n",
      " pv_block_10_relu1 (Activation)  (None, 480, 640, 32  0          ['pv_block_10_clade[0][0]']      \n",
      "                                )                                                                 \n",
      "                                                                                                  \n",
      " pv_block_10_relu2 (Activation)  (None, 480, 640, 32  0          ['tf.math.multiply_8[0][0]']     \n",
      "                                )                                                                 \n",
      "                                                                                                  \n",
      " subtract_7 (Subtract)          (None, 480, 640, 32  0           ['pv_block_10_relu1[0][0]',      \n",
      "                                )                                 'pv_block_10_relu2[0][0]']      \n",
      "                                                                                                  \n",
      " pv_final_conv_vertex (Conv2D)  (None, 480, 640, 27  864         ['subtract_7[0][0]']             \n",
      "                                )                                                                 \n",
      "                                                                                                  \n",
      " pv_final_concatenation (Concat  (None, 480, 640, 36  0          ['pv_final_conv_segmentation[0][0\n",
      " enate)                         )                                ]',                              \n",
      "                                                                  'pv_final_conv_vertex[0][0]']   \n",
      "                                                                                                  \n",
      "==================================================================================================\n",
      "Total params: 14,759,433\n",
      "Trainable params: 0\n",
      "Non-trainable params: 14,759,433\n",
      "__________________________________________________________________________________________________\n"
     ]
    }
   ],
   "source": [
    "net.summary()"
   ]
  },
  {
   "cell_type": "code",
   "execution_count": 36,
   "id": "88083b3f",
   "metadata": {},
   "outputs": [],
   "source": [
    "with open(opt.evalf + \"/speed_eval.csv\", \"w\") as file:\n",
    "    file.write(\"batchid,speed \\n\")"
   ]
  },
  {
   "cell_type": "code",
   "execution_count": 37,
   "id": "b69f1aec",
   "metadata": {},
   "outputs": [],
   "source": [
    "def runnetwork(loader_iterator, batches, keypoints, camera_matrix, no_objects):\n",
    "    @tf.function\n",
    "    def test_step(img_batch):\n",
    "        start_time = tf.timestamp()\n",
    "        no_points = opt.no_points\n",
    "        net_input = [tf.expand_dims(img_batch[0], 0)]\n",
    "        output_net = net(net_input, training=False)  # all stages are present here\n",
    "        output_seg, output_dirs, confidence = tf.split(output_net, [no_objects, no_points * 2, -1], 3)\n",
    "        coordLSV_in = [output_seg, output_dirs, confidence]\n",
    "        coords = CoordLSVotingWeighted(\n",
    "            name=\"coords_ls_voting\",\n",
    "            num_classes=no_objects,\n",
    "            num_points=no_points,\n",
    "            filter_estimates=True,\n",
    "        )(coordLSV_in)\n",
    "        poses_est = poses_pnp(\n",
    "            coords, output_seg, keypoints, camera_matrix, no_objects - 1, min_num=opt.min_object_size_test\n",
    "        )\n",
    "        tf.print(poses_est[0, 0, 0, 0, 0])  # access memory to get sure everything is done\n",
    "\n",
    "        end_time = tf.timestamp()\n",
    "        time_needed = end_time - start_time\n",
    "        return time_needed\n",
    "\n",
    "    speed = []\n",
    "    for batch_idx in range(batches):\n",
    "        img_batch = loader_iterator.get_next()\n",
    "        time_needed = test_step(img_batch)\n",
    "        speed.append(time_needed)\n",
    "        with open(opt.evalf + \"/speed_eval.csv\", \"a\") as file:\n",
    "            s = \"{},{:.7f}\\n\".format(batch_idx + 1, time_needed)\n",
    "            file.write(s)\n",
    "\n",
    "    tf.print(\"average speed: {}\".format(tf.reduce_mean(speed[10:])), summarize=-1)\n",
    "\n",
    "    return loader_iterator"
   ]
  },
  {
   "cell_type": "code",
   "execution_count": 38,
   "id": "22652301",
   "metadata": {},
   "outputs": [
    {
     "name": "stdout",
     "output_type": "stream",
     "text": [
      "Test Batches: 5.0 \n"
     ]
    }
   ],
   "source": [
    "print(\"Test Batches: {} \".format(test_batches))"
   ]
  },
  {
   "cell_type": "code",
   "execution_count": 39,
   "id": "dd57c866",
   "metadata": {},
   "outputs": [],
   "source": [
    "testingdata_iterator = iter(testingdata)"
   ]
  },
  {
   "cell_type": "code",
   "execution_count": 40,
   "id": "ee73f3fc",
   "metadata": {},
   "outputs": [],
   "source": [
    "img_batch = testingdata_iterator.get_next()"
   ]
  },
  {
   "cell_type": "code",
   "execution_count": 41,
   "id": "7777e40d",
   "metadata": {},
   "outputs": [],
   "source": [
    "keypoints = img_batch[4]\n",
    "camera_matrix = img_batch[5]"
   ]
  },
  {
   "cell_type": "code",
   "execution_count": null,
   "id": "4dcbaa74",
   "metadata": {},
   "outputs": [],
   "source": []
  },
  {
   "cell_type": "code",
   "execution_count": 42,
   "id": "a01983ec",
   "metadata": {},
   "outputs": [
    {
     "name": "stdout",
     "output_type": "stream",
     "text": [
      "[TensorShape([8, 9, 2]), TensorShape([8, 9, 3]), TensorShape([3, 3])]\n"
     ]
    },
    {
     "name": "stderr",
     "output_type": "stream",
     "text": [
      "2023-03-31 13:13:20.044503: I tensorflow/stream_executor/cuda/cuda_dnn.cc:384] Loaded cuDNN version 8401\n",
      "2023-03-31 13:13:21.063519: I tensorflow/stream_executor/cuda/cuda_blas.cc:1804] TensorFloat-32 will be used for the matrix multiplication. This will only be logged once.\n",
      "2023-03-31 13:13:21.288811: I tensorflow/compiler/xla/service/service.cc:170] XLA service 0x7f19835f47a0 initialized for platform CUDA (this does not guarantee that XLA will be used). Devices:\n",
      "2023-03-31 13:13:21.288860: I tensorflow/compiler/xla/service/service.cc:178]   StreamExecutor device (0): NVIDIA A10G, Compute Capability 8.6\n",
      "2023-03-31 13:13:21.294565: I tensorflow/compiler/mlir/tensorflow/utils/dump_mlir_util.cc:263] disabling MLIR crash reproducer, set env var `MLIR_CRASH_REPRODUCER_DIRECTORY` to enable.\n",
      "2023-03-31 13:13:21.836268: I tensorflow/compiler/jit/xla_compilation_cache.cc:481] Compiled cluster using XLA!  This line is logged at most once for the lifetime of the process.\n",
      "2023-03-31 13:13:25.676368: W tensorflow/compiler/tf2xla/kernels/assert_op.cc:38] Ignoring Assert operator Assert/Assert\n",
      "2023-03-31 13:13:25.686617: W tensorflow/compiler/tf2xla/kernels/assert_op.cc:38] Ignoring Assert operator Assert_1/Assert\n",
      "2023-03-31 13:13:25.686685: W tensorflow/compiler/tf2xla/kernels/assert_op.cc:38] Ignoring Assert operator Assert_2/Assert\n",
      "2023-03-31 13:13:25.686721: W tensorflow/compiler/tf2xla/kernels/assert_op.cc:38] Ignoring Assert operator Assert_3/Assert\n"
     ]
    },
    {
     "name": "stdout",
     "output_type": "stream",
     "text": [
      "-0.925360084\n",
      "0.716837\n",
      "0.693645954\n",
      "-0.524748921\n",
      "-0.0622993708\n",
      "average speed: nan\n"
     ]
    },
    {
     "data": {
      "text/plain": [
       "<tensorflow.python.data.ops.iterator_ops.OwnedIterator at 0x7f1cdc9cedc0>"
      ]
     },
     "execution_count": 42,
     "metadata": {},
     "output_type": "execute_result"
    }
   ],
   "source": [
    "testingdata_iterator = iter(testing_images)\n",
    "runnetwork(testingdata_iterator, int(test_batches), keypoints, camera_matrix, no_objects + 1)"
   ]
  }
 ],
 "metadata": {
  "kernelspec": {
   "display_name": "Python 3 (ipykernel)",
   "language": "python",
   "name": "python3"
  },
  "language_info": {
   "codemirror_mode": {
    "name": "ipython",
    "version": 3
   },
   "file_extension": ".py",
   "mimetype": "text/x-python",
   "name": "python",
   "nbconvert_exporter": "python",
   "pygments_lexer": "ipython3",
   "version": "3.8.10"
  }
 },
 "nbformat": 4,
 "nbformat_minor": 5
}
